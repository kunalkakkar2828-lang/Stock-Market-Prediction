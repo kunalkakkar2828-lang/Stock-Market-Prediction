{
 "cells": [
  {
   "cell_type": "markdown",
   "id": "3c980151",
   "metadata": {},
   "source": [
    "# Working on TCS Data Stock Price Predictions "
   ]
  },
  {
   "cell_type": "markdown",
   "id": "d81f766b",
   "metadata": {},
   "source": [
    "![Nvidia](tcs.gif)"
   ]
  },
  {
   "cell_type": "markdown",
   "id": "c091b8d7",
   "metadata": {},
   "source": [
    "## Steps to build this project\n",
    "\n",
    "- 1 First load essential Moduels \n",
    "- 2 Load Dataset \n",
    "- 3 Check information about dataset \n",
    "- 4 Make date as index \n",
    "- 5 plotting close data with date \n",
    "- 6 Split data into Train-Test \n",
    "- 7 Create different regression model and check R2 score \n",
    "- 8 Select those model who gave good R2 score \n",
    "- 9 From those Model create a ensemble model for this we use voting regression model \n",
    "- 10 Check R2 score of that ensemble model \n",
    "- 11 Save it on Pickle and Joblib File \n",
    "- 12 Testing Saved model on random data "
   ]
  },
  {
   "cell_type": "code",
   "execution_count": 2,
   "id": "1a9fd89b",
   "metadata": {},
   "outputs": [],
   "source": [
    "#import essential modules \n",
    "\n",
    "import warnings\n",
    "warnings.filterwarnings('ignore')\n",
    "import numpy as np\n",
    "import pandas as pd\n",
    "import matplotlib.pyplot as plt"
   ]
  },
  {
   "cell_type": "code",
   "execution_count": 3,
   "id": "ed674cff",
   "metadata": {},
   "outputs": [
    {
     "name": "stdout",
     "output_type": "stream",
     "text": [
      "<class 'pandas.core.frame.DataFrame'>\n",
      "RangeIndex: 2758 entries, 0 to 2757\n",
      "Data columns (total 6 columns):\n",
      " #   Column  Non-Null Count  Dtype  \n",
      "---  ------  --------------  -----  \n",
      " 0   date    2758 non-null   object \n",
      " 1   open    2758 non-null   float64\n",
      " 2   high    2758 non-null   float64\n",
      " 3   low     2758 non-null   float64\n",
      " 4   close   2758 non-null   float64\n",
      " 5   volume  2758 non-null   int64  \n",
      "dtypes: float64(4), int64(1), object(1)\n",
      "memory usage: 129.4+ KB\n"
     ]
    }
   ],
   "source": [
    "#loading essential modules for dataset \n",
    "\n",
    "tcs = pd.read_csv(\"new dataset/Preprocessed_TCS_Dataset.csv\")\n",
    "tcs.info()\n",
    "\n",
    "tcs['date'] = pd.to_datetime(tcs['date'])\n",
    "tcs.set_index('date', inplace=True)"
   ]
  },
  {
   "cell_type": "code",
   "execution_count": 5,
   "id": "cc5a84b4",
   "metadata": {},
   "outputs": [
    {
     "data": {
      "text/html": [
       "<div>\n",
       "<style scoped>\n",
       "    .dataframe tbody tr th:only-of-type {\n",
       "        vertical-align: middle;\n",
       "    }\n",
       "\n",
       "    .dataframe tbody tr th {\n",
       "        vertical-align: top;\n",
       "    }\n",
       "\n",
       "    .dataframe thead th {\n",
       "        text-align: right;\n",
       "    }\n",
       "</style>\n",
       "<table border=\"1\" class=\"dataframe\">\n",
       "  <thead>\n",
       "    <tr style=\"text-align: right;\">\n",
       "      <th></th>\n",
       "      <th>open</th>\n",
       "      <th>high</th>\n",
       "      <th>low</th>\n",
       "      <th>close</th>\n",
       "      <th>volume</th>\n",
       "    </tr>\n",
       "    <tr>\n",
       "      <th>date</th>\n",
       "      <th></th>\n",
       "      <th></th>\n",
       "      <th></th>\n",
       "      <th></th>\n",
       "      <th></th>\n",
       "    </tr>\n",
       "  </thead>\n",
       "  <tbody>\n",
       "    <tr>\n",
       "      <th>2018-07-30</th>\n",
       "      <td>101.25</td>\n",
       "      <td>103.500</td>\n",
       "      <td>98.415</td>\n",
       "      <td>99.30</td>\n",
       "      <td>10754</td>\n",
       "    </tr>\n",
       "    <tr>\n",
       "      <th>2022-10-07</th>\n",
       "      <td>79.05</td>\n",
       "      <td>80.475</td>\n",
       "      <td>78.300</td>\n",
       "      <td>80.25</td>\n",
       "      <td>29178</td>\n",
       "    </tr>\n",
       "    <tr>\n",
       "      <th>2021-03-05</th>\n",
       "      <td>237.60</td>\n",
       "      <td>238.350</td>\n",
       "      <td>208.500</td>\n",
       "      <td>227.85</td>\n",
       "      <td>124347</td>\n",
       "    </tr>\n",
       "    <tr>\n",
       "      <th>2022-06-06</th>\n",
       "      <td>116.70</td>\n",
       "      <td>116.700</td>\n",
       "      <td>112.500</td>\n",
       "      <td>115.50</td>\n",
       "      <td>29855</td>\n",
       "    </tr>\n",
       "    <tr>\n",
       "      <th>2015-08-24</th>\n",
       "      <td>233.25</td>\n",
       "      <td>240.000</td>\n",
       "      <td>221.700</td>\n",
       "      <td>237.15</td>\n",
       "      <td>24166</td>\n",
       "    </tr>\n",
       "    <tr>\n",
       "      <th>2015-09-30</th>\n",
       "      <td>215.55</td>\n",
       "      <td>216.300</td>\n",
       "      <td>201.150</td>\n",
       "      <td>211.20</td>\n",
       "      <td>28031</td>\n",
       "    </tr>\n",
       "  </tbody>\n",
       "</table>\n",
       "</div>"
      ],
      "text/plain": [
       "              open     high      low   close  volume\n",
       "date                                                \n",
       "2018-07-30  101.25  103.500   98.415   99.30   10754\n",
       "2022-10-07   79.05   80.475   78.300   80.25   29178\n",
       "2021-03-05  237.60  238.350  208.500  227.85  124347\n",
       "2022-06-06  116.70  116.700  112.500  115.50   29855\n",
       "2015-08-24  233.25  240.000  221.700  237.15   24166\n",
       "2015-09-30  215.55  216.300  201.150  211.20   28031"
      ]
     },
     "execution_count": 5,
     "metadata": {},
     "output_type": "execute_result"
    }
   ],
   "source": [
    "tcs.sample(6)"
   ]
  },
  {
   "cell_type": "markdown",
   "id": "ed1a499e",
   "metadata": {},
   "source": [
    "# Plotting Close Data"
   ]
  },
  {
   "cell_type": "code",
   "execution_count": 6,
   "id": "f4c4924e",
   "metadata": {},
   "outputs": [
    {
     "data": {
      "image/png": "[encoded data removed]",
      "text/plain": [
       "<Figure size 1296x288 with 1 Axes>"
      ]
     },
     "metadata": {
      "needs_background": "light"
     },
     "output_type": "display_data"
    }
   ],
   "source": [
    "plt.figure(figsize=(18,4))\n",
    "\n",
    "plt.title(\"Closing By Year\",fontsize=20)\n",
    "\n",
    "plt.xlabel('Closing',fontsize = 14)\n",
    "\n",
    "plt.ylabel('Date',fontsize = 14)\n",
    "\n",
    "plt.plot(tcs['close'])\n",
    "\n",
    "plt.show()"
   ]
  },
  {
   "cell_type": "markdown",
   "id": "6cfafce4",
   "metadata": {},
   "source": [
    "# Plotting Volume Data"
   ]
  },
  {
   "cell_type": "code",
   "execution_count": 7,
   "id": "da8be66f",
   "metadata": {},
   "outputs": [
    {
     "data": {
      "image/png": "[encoded data removed]",
      "text/plain": [
       "<Figure size 1440x576 with 1 Axes>"
      ]
     },
     "metadata": {
      "needs_background": "light"
     },
     "output_type": "display_data"
    }
   ],
   "source": [
    "plt.figure(figsize=(20,8))\n",
    "plt.title(\"Volume By Year\",fontsize=20)\n",
    "plt.xlabel('Closing',fontsize = 14)\n",
    "plt.ylabel('Date',fontsize = 14)\n",
    "plt.plot(tcs['volume'])\n",
    "plt.show()"
   ]
  },
  {
   "cell_type": "markdown",
   "id": "4c4b9197",
   "metadata": {},
   "source": [
    "# Train-Test Split data"
   ]
  },
  {
   "cell_type": "code",
   "execution_count": 8,
   "id": "6d72fe46",
   "metadata": {},
   "outputs": [
    {
     "name": "stdout",
     "output_type": "stream",
     "text": [
      "(2206, 4)\n",
      "(552, 4)\n",
      "(2206,)\n",
      "(552,)\n"
     ]
    }
   ],
   "source": [
    "from sklearn.model_selection import train_test_split\n",
    "features = ['open','high','low','volume']\n",
    "x = tcs[features]\n",
    "y = tcs['close']\n",
    "xtrain,xtest,ytrain,ytest = train_test_split(x,y,test_size=0.2,shuffle=False)\n",
    "\n",
    "print(xtrain.shape)\n",
    "print(xtest.shape)\n",
    "print(ytrain.shape)\n",
    "print(ytest.shape)"
   ]
  },
  {
   "cell_type": "markdown",
   "id": "a3ebb204",
   "metadata": {},
   "source": [
    "# Machine Learning (Regression) on TCS Data"
   ]
  },
  {
   "cell_type": "markdown",
   "id": "1d46e2f8",
   "metadata": {},
   "source": [
    "## 1) Linear Regression"
   ]
  },
  {
   "cell_type": "code",
   "execution_count": 9,
   "id": "b764afba",
   "metadata": {},
   "outputs": [
    {
     "name": "stdout",
     "output_type": "stream",
     "text": [
      "R2 Score of Linear Regression : 0.9979612118835919\n"
     ]
    }
   ],
   "source": [
    "from sklearn.linear_model import LinearRegression\n",
    "modellr = LinearRegression()\n",
    "modellr.fit(xtrain,ytrain)\n",
    "ypred = modellr.predict(xtest)\n",
    "from sklearn.metrics import r2_score\n",
    "r2_0 = r2_score(ytest,ypred)\n",
    "print(f\"R2 Score of Linear Regression : {r2_0}\")"
   ]
  },
  {
   "cell_type": "markdown",
   "id": "867bad60",
   "metadata": {},
   "source": [
    "## plotting regression model"
   ]
  },
  {
   "cell_type": "code",
   "execution_count": 10,
   "id": "37990cdf",
   "metadata": {},
   "outputs": [
    {
     "data": {
      "image/png": "[encoded data removed]",
      "text/plain": [
       "<Figure size 1296x432 with 1 Axes>"
      ]
     },
     "metadata": {
      "needs_background": "light"
     },
     "output_type": "display_data"
    }
   ],
   "source": [
    "y_pred = np.squeeze(np.array(ypred))\n",
    "y_test = np.array(ytest)\n",
    "plt.figure(figsize=(18,6))\n",
    "plt.plot(np.arange(len(y_test)), y_test, label='Actual Price', color='blue')\n",
    "plt.plot(np.arange(len(y_pred)), y_pred, label='Predicted Price', color='red', linestyle='--')\n",
    "plt.legend()\n",
    "plt.xlabel('Index')\n",
    "plt.ylabel('Stock Price')\n",
    "plt.title('Actual vs Predicted Stock Price')\n",
    "plt.show()"
   ]
  },
  {
   "cell_type": "markdown",
   "id": "1695ead3",
   "metadata": {},
   "source": [
    "## 2) Ridge Regression"
   ]
  },
  {
   "cell_type": "code",
   "execution_count": 11,
   "id": "0a104948",
   "metadata": {},
   "outputs": [
    {
     "name": "stdout",
     "output_type": "stream",
     "text": [
      "R2 Score of Ridge Regression (L2 regularization) = 0.9979612934362246\n"
     ]
    }
   ],
   "source": [
    "from sklearn.linear_model import Ridge\n",
    "ridge_reg = Ridge(alpha=1.0)\n",
    "ridge_reg.fit(xtrain, ytrain)\n",
    "ypred1 = ridge_reg.predict(xtest)\n",
    "\n",
    "r2_1 = r2_score(ytest,ypred1)\n",
    "print(f\"R2 Score of Ridge Regression (L2 regularization) = {r2_1}\")"
   ]
  },
  {
   "cell_type": "markdown",
   "id": "e9d72104",
   "metadata": {},
   "source": [
    "## 3) Lasso Regression"
   ]
  },
  {
   "cell_type": "code",
   "execution_count": 12,
   "id": "6561c390",
   "metadata": {},
   "outputs": [
    {
     "name": "stdout",
     "output_type": "stream",
     "text": [
      "R2 Score of Lasso Regression (L1 regularization) = 0.9890586523727406\n"
     ]
    }
   ],
   "source": [
    "from sklearn.linear_model import Lasso\n",
    "lasso_reg = Lasso(alpha=0.1)\n",
    "lasso_reg.fit(xtrain, ytrain)\n",
    "ypred2 = lasso_reg.predict(xtest)\n",
    "r2_2 = r2_score(ytest,ypred2)\n",
    "print(f\"R2 Score of Lasso Regression (L1 regularization) = {r2_2}\")"
   ]
  },
  {
   "cell_type": "markdown",
   "id": "87f7656f",
   "metadata": {},
   "source": [
    "## 4) Elastic NET Regression"
   ]
  },
  {
   "cell_type": "code",
   "execution_count": 13,
   "id": "3cab483e",
   "metadata": {},
   "outputs": [
    {
     "name": "stdout",
     "output_type": "stream",
     "text": [
      "R2 Score of Elastic Net Regression = 0.9891227853737217\n"
     ]
    }
   ],
   "source": [
    "from sklearn.linear_model import ElasticNet\n",
    "elastic_net = ElasticNet(alpha=0.1, l1_ratio=0.5)\n",
    "elastic_net.fit(xtrain, ytrain)\n",
    "ypred3 = elastic_net.predict(xtest)\n",
    "r2_3 = r2_score(ytest,ypred3)\n",
    "print(f\"R2 Score of Elastic Net Regression = {r2_3}\")"
   ]
  },
  {
   "cell_type": "markdown",
   "id": "5bc7de01",
   "metadata": {},
   "source": [
    "## 5) KNN Regression"
   ]
  },
  {
   "cell_type": "code",
   "execution_count": 14,
   "id": "832349f5",
   "metadata": {},
   "outputs": [
    {
     "name": "stdout",
     "output_type": "stream",
     "text": [
      "R2 Score of KNN Regression = -5.895336752453752\n"
     ]
    }
   ],
   "source": [
    "from sklearn.neighbors import KNeighborsRegressor\n",
    "from sklearn.metrics import r2_score\n",
    "knn_reg = KNeighborsRegressor(n_neighbors=5)\n",
    "knn_reg.fit(xtrain,ytrain)\n",
    "ypred9 = knn_reg.predict(xtest)\n",
    "r2_9 = r2_score(ytest,ypred9)\n",
    "print(f\"R2 Score of KNN Regression = {r2_9}\")"
   ]
  },
  {
   "cell_type": "markdown",
   "id": "0549fd90",
   "metadata": {},
   "source": [
    "## In Conclusion \n",
    "\n",
    "### We get 4 different types of regression they are :-\n",
    "\n",
    "\n",
    "| Regression Model         | R2 Score         |\n",
    "|--------------------------|------------------|\n",
    "|1) Linear Regression      |0.9979612118835919|\n",
    "|2) Ridge Regression       |0.9979612934362246|\n",
    "|3) Lasso Regression       |0.9890586523727406|\n",
    "|4) Elastic Net Regression |0.9891227853737217|"
   ]
  },
  {
   "cell_type": "markdown",
   "id": "b6e79029",
   "metadata": {},
   "source": [
    "# Voting Ensemble Model"
   ]
  },
  {
   "cell_type": "code",
   "execution_count": 15,
   "id": "6112b8a8",
   "metadata": {},
   "outputs": [
    {
     "name": "stdout",
     "output_type": "stream",
     "text": [
      "R2 Score of a voting model :0.9982187803121194\n"
     ]
    }
   ],
   "source": [
    "#import ml model \n",
    "from sklearn.linear_model import LinearRegression\n",
    "from sklearn.linear_model import Ridge\n",
    "from sklearn.linear_model import Lasso\n",
    "from sklearn.linear_model import ElasticNet\n",
    "\n",
    "from sklearn.metrics import r2_score\n",
    "#making machine \n",
    "modellr = LinearRegression()\n",
    "ridge_reg = Ridge(alpha=1.0)\n",
    "lasso_reg = Lasso(alpha=0.1)\n",
    "elastic_net = ElasticNet(alpha=0.1, l1_ratio=0.5)\n",
    "\n",
    "#loading voting regressor modules \n",
    "from sklearn.ensemble import VotingRegressor\n",
    "\n",
    "#creating voting ensemble model \n",
    "votingmodel = VotingRegressor([\n",
    "    ('lr',modellr),\n",
    "    ('rr',ridge_reg),\n",
    "    ('lar',lasso_reg),\n",
    "    ('enr',elastic_net)\n",
    "])\n",
    "\n",
    "#train voting model \n",
    "votingmodel.fit(xtrain,ytrain)\n",
    "\n",
    "yprediction = votingmodel.predict(xtest)\n",
    "R2_score = r2_score(ytest,yprediction)\n",
    "print(f\"R2 Score of a voting model :{R2_score}\")"
   ]
  },
  {
   "cell_type": "markdown",
   "id": "a668c3e9",
   "metadata": {},
   "source": [
    "# Plotting Voting Regression "
   ]
  },
  {
   "cell_type": "code",
   "execution_count": 16,
   "id": "e63ad756",
   "metadata": {},
   "outputs": [
    {
     "data": {
      "image/png": "[encoded data removed]",
      "text/plain": [
       "<Figure size 1296x432 with 1 Axes>"
      ]
     },
     "metadata": {
      "needs_background": "light"
     },
     "output_type": "display_data"
    }
   ],
   "source": [
    "# Assuming y_test is a pandas Series, y_pred is a numpy array or multi-dimensional structure\n",
    "import matplotlib.pyplot as plt\n",
    "# Convert y_pred to a 1D numpy array (if it's not already)\n",
    "y_pred = np.squeeze(np.array(yprediction))  # Flatten if it's multi-dimensional\n",
    "\n",
    "# Ensure y_test is aligned (if y_test is a pandas Series)\n",
    "y_test = np.array(ytest)  # You can convert it to a numpy array if needed\n",
    "plt.figure(figsize=(18,6))\n",
    "# Plot the actual vs predicted values\n",
    "plt.plot(np.arange(len(ytest)), ytest, label='Actual Price', color='blue')\n",
    "plt.plot(np.arange(len(y_pred)), y_pred, label='Predicted Price', color='red', linestyle='--')\n",
    "\n",
    "# Add labels and title\n",
    "plt.xlabel('Index',fontsize=18)\n",
    "plt.ylabel('Stock Price',fontsize=18)\n",
    "plt.title('Actual vs Predicted Stock Price',fontsize=23)\n",
    "plt.legend()\n",
    "\n",
    "# Display the plot\n",
    "plt.show()"
   ]
  },
  {
   "cell_type": "markdown",
   "id": "350f7d93",
   "metadata": {},
   "source": [
    "# Save Model with Pickle"
   ]
  },
  {
   "cell_type": "code",
   "execution_count": 17,
   "id": "8878ee49",
   "metadata": {},
   "outputs": [
    {
     "name": "stdout",
     "output_type": "stream",
     "text": [
      "[105.3625466  111.11840345 111.61090119 115.88956173 116.9188859\n",
      " 119.11233659 117.13615333 114.72961228 112.20243826 105.90059801\n",
      " 106.1714313  108.28101801 109.49603291 107.49364708 105.77127319\n",
      " 106.17079142 103.53113383 100.40599041 100.66248611  97.01856415\n",
      "  97.16320038  96.55434955  98.66983085 100.98724544  92.67157045\n",
      "  89.06272016  91.2632704   86.69123338  88.72844474  84.25796558\n",
      "  80.78192886  80.66108519  77.97830142  78.76766521  76.45662878\n",
      "  78.56706736  74.72518178  72.75461807  77.79481547  80.49169668\n",
      "  78.11024822  80.23467166  79.10842996  76.37585794  77.32014018\n",
      "  80.43604726  81.48873531  82.52297267  80.80341206  81.68592645\n",
      "  76.95189565  77.24331377  75.88456305  76.79776159  78.50310132\n",
      "  84.21078038  83.82021441  83.47095083  82.20961947  76.60417018\n",
      "  70.06451721  69.22838328  67.34179145  67.12175118  68.74525944\n",
      "  65.7586859   69.05258892  73.59035726  73.70703535  74.31013359\n",
      "  70.02633492  68.13526087  67.27146517  66.22715333  70.2742479\n",
      "  71.55268756  71.5382261   70.55178517  69.29577041  70.40254234\n",
      "  72.09448884  70.75048209  70.73609177  70.55867267  71.07556551\n",
      "  72.49186794  74.85689603  73.21871673  73.81712621  68.53709617\n",
      "  64.15133067  65.56645704  64.13261718  61.52606228  61.39590455\n",
      "  61.49260663  63.57458535  62.56209638  63.21818427  63.70948697\n",
      "  64.64866685  65.97667858  68.56185551  67.93147426  69.13481511\n",
      "  71.9044818   73.64550458  75.925494    78.63081751  78.8771471\n",
      "  77.81992247  76.27411672  72.53135952  72.23520528  73.66299493\n",
      "  73.49909296  73.76037917  76.36472273  77.52184305  76.91401394\n",
      "  77.66685228  81.15769348  84.70615933  84.719955    83.51162289\n",
      "  78.22296121  72.51451143  65.42015565  63.48992557  64.61647225\n",
      "  68.5667812   71.6685705   73.13703139  73.23512499  68.92628195\n",
      "  66.30931774  66.5611173   65.0703119   64.59062858  65.79968109\n",
      "  66.1265873   66.43432949  66.93487688  64.33153564  62.44894113\n",
      "  62.62220142  61.29554911  58.41094628  57.1018831   55.05074474\n",
      "  52.49245003  52.07750769  50.58497293  50.83082866  53.11456859\n",
      "  51.42523151  50.36094485  49.1010112   49.11852043  48.98553072\n",
      "  48.26774306  49.42824367  50.61686908  50.94517485  49.97296318\n",
      "  47.48289562  48.16109217  48.88368635  52.23679971  51.13784725\n",
      "  50.00319958  49.89383966  50.21882491  50.76042464  50.66369566\n",
      "  50.62552634  48.93344707  49.6073296   48.15215488  46.72500839\n",
      "  46.12972535  46.7004084   45.03315359  42.93661656  43.50152978\n",
      "  41.99536458  43.120094    45.54730301  44.48260346  44.04458679\n",
      "  43.82231074  42.87854211  42.48520255  40.92808472  36.98143377\n",
      "  37.94192039  34.42225866  32.35201457  36.02645709  34.87371457\n",
      "  34.3446572   34.48057403  36.0776682   36.09886163  36.31847004\n",
      "  39.87950013  41.78195273  43.02906638  45.91607852  49.53700097\n",
      "  47.67662976  44.55452573  46.09145034  44.60885661  44.82169033\n",
      "  43.13979892  43.11288228  42.68922333  41.78207805  42.59649063\n",
      "  46.76931461  46.30249255  45.2925894   46.40963912  46.82807399\n",
      "  48.86912963  47.14700547  46.26567     47.84417811  48.63208089\n",
      "  48.81625716  48.94315861  47.85305699  47.61081011  48.77913616\n",
      "  48.62926289  51.2898275   49.36514703  48.51517964  49.12854761\n",
      "  49.04507771  51.07917755  52.17165963  52.28296223  54.00273614\n",
      "  53.42376464  40.17446615  38.28280634  38.84183857  38.76869781\n",
      "  37.43736345  38.73426627  39.753694    39.27465589  38.64894019\n",
      "  37.35372622  38.13122193  38.2298851   38.00473118  37.23552405\n",
      "  35.3350138   33.88787008  34.37434686  33.44338859  33.77247817\n",
      "  34.08020208  35.11418041  35.85151098  35.78749191  34.32569274\n",
      "  33.48415615  32.57227413  32.23709798  32.15664088  32.00396504\n",
      "  32.93017471  34.21403483  34.09224663  32.87006604  32.95977776\n",
      "  32.24843893  31.64423051  30.86009972  29.07815258  28.24517955\n",
      "  28.82492926  31.5641722   33.40835492  32.89790324  32.89655573\n",
      "  32.74792569  30.44354475  31.73484887  30.09681585  31.36315696\n",
      "  31.2875916   29.95580405  29.96880015  31.08342873  32.33483905\n",
      "  32.29943863  32.43737006  32.58043402  31.57439398  30.54491812\n",
      "  28.50253405  27.29541751  27.68995046  27.74951183  27.75602729\n",
      "  25.72222671  26.68835685  28.97282967  28.05123391  28.4812125\n",
      "  28.30740896  27.0160462   26.55432881  26.57278677  27.65729322\n",
      "  29.54607386  27.9570432   27.36390767  27.8831969   27.41241493\n",
      "  27.61870505  28.15610017  28.20803365  27.57551108  29.08800244\n",
      "  28.25623162  28.94707324  31.190121    30.67809722  30.92605663\n",
      "  29.83193081  29.11500947  29.25130501  28.7362926   28.87367313\n",
      "  31.60000447  33.86656927  33.9878544   34.54719241  33.89742016\n",
      "  35.33540383  35.65829407  36.54579917  35.35032774  34.69700943\n",
      "  34.83692575  35.78192464  34.91899705  35.83178482  35.90919352\n",
      "  34.23028841  30.60202768  27.5640351   26.76852778  25.96052791\n",
      "  24.34887354  23.36117718  22.75214168  23.72823914  23.78560965\n",
      "  24.06122885  22.98564102  23.44437882  24.5052185   23.57619543\n",
      "  24.61692026  24.74775524  23.40456807  25.22741616  24.64739796\n",
      "  25.15105007  16.60930196  18.52850201  19.37702996  19.09805642\n",
      "  18.64919177  18.60122435  20.12403137  18.53885497  18.03973112\n",
      "  18.26153987  17.78196412  19.07148358  19.87093664  20.07686342\n",
      "  20.07067306  20.31799     20.46738436  19.83547823  18.40868768\n",
      "  18.28670984  18.29039303  18.15223347  17.65586584  17.10391422\n",
      "  17.04513981  16.46271153  14.94080779  15.14705222  15.26290619\n",
      "  15.41195788  16.05385477  16.55849181  16.38740882  16.87809668\n",
      "  16.7525427   17.25247739  17.27858668  16.27546816  16.65177413\n",
      "  17.2109965   16.46154099  16.25455155  15.95901328  15.68857079\n",
      "  15.38839109  15.17512181  14.92919633  13.57174819  13.34036763\n",
      "  13.46590721  13.39960047  13.03162848  13.52636777  13.58757926\n",
      "  13.20720505  13.27123863  13.46122948  12.82870433  12.72075903\n",
      "  13.51960265  13.86420362  13.38572593  13.4171904   13.17632649\n",
      "  13.93855456  13.80829564  13.48766377  13.56202006  13.03896772\n",
      "  12.48194821  11.98332707  10.66999914  11.06859353  10.9534607\n",
      "  11.10976492  11.09558065  10.17204369   9.97276645  10.16211695\n",
      "  10.27705913  10.13363514   9.65481855  10.24572452  10.64425739\n",
      "  10.45373819   9.74837066   9.86879512   9.96195007   9.26865204\n",
      "   9.13886854   8.46713986   8.15230984   8.44162207   8.45024928\n",
      "   8.58551667   8.4823671    8.61666795   8.59663543   8.51263767\n",
      "   8.15626682   8.23365966   8.13139682   7.87910993   7.83131365\n",
      "   7.70210281   7.85598589   7.79994768   7.81877497   8.12364427\n",
      "   8.36472241   8.28687574   8.3586661    8.24772359   8.29706725\n",
      "   7.8931396    8.50170427  -3.08435607  15.63783893  15.97107555\n",
      "  13.39929955  13.08914116  12.60607667  11.80226306  15.28241105\n",
      "  18.17299213  13.75505239  13.51549373  12.67544172  12.30812649\n",
      "  12.18721984  12.34756221  12.13944105  11.85768909  13.27823076\n",
      "  13.52852616  14.64348712  13.63642919  14.88349283  17.12056321\n",
      "  15.63351835  14.65751006  12.27712582  11.86275551  11.73875291\n",
      "  11.86532193  11.12120031  10.77926507  10.15346787   9.3604163\n",
      "   9.97425494  10.04357312  10.05631851  11.48754605  12.63566183\n",
      "  13.76273386  14.57650704  13.10499057  11.70606549  11.83173309\n",
      "   9.94740896   9.35387729   9.28464828   8.50861804   8.98379566\n",
      "   8.50570757   7.78863533   7.55526769   8.22716884   9.13139116\n",
      "   9.85830364   9.77385742  13.72298131  15.0798759   11.0562848\n",
      "  10.70583914  11.2508318 ]\n",
      "R2 Score of pickle ensemble model : 0.9982187803121194\n"
     ]
    }
   ],
   "source": [
    "import pickle\n",
    "# Specify the filename\n",
    "filename = \"Models/TCS_ensemble_model.pkl\"\n",
    "\n",
    "# Open the file in write-binary mode and save the model\n",
    "with open(filename, 'wb') as file:\n",
    "    pickle.dump(votingmodel, file)\n",
    "    \n",
    "# Load the model\n",
    "with open(filename, 'rb') as file:\n",
    "    loaded_model = pickle.load(file)\n",
    "\n",
    "# You can now use loaded_model to make predictions\n",
    "predictions = loaded_model.predict(xtest)\n",
    "\n",
    "print(predictions)\n",
    "\n",
    "#r2 score \n",
    "r2scoree = r2_score(ytest,predictions)\n",
    "print(f\"R2 Score of pickle ensemble model : {r2scoree}\")"
   ]
  },
  {
   "cell_type": "markdown",
   "id": "566e8dbe",
   "metadata": {},
   "source": [
    "# Save Model With Joblib"
   ]
  },
  {
   "cell_type": "code",
   "execution_count": 18,
   "id": "5c05cd73",
   "metadata": {},
   "outputs": [
    {
     "name": "stdout",
     "output_type": "stream",
     "text": [
      "[105.3625466  111.11840345 111.61090119 115.88956173 116.9188859\n",
      " 119.11233659 117.13615333 114.72961228 112.20243826 105.90059801\n",
      " 106.1714313  108.28101801 109.49603291 107.49364708 105.77127319\n",
      " 106.17079142 103.53113383 100.40599041 100.66248611  97.01856415\n",
      "  97.16320038  96.55434955  98.66983085 100.98724544  92.67157045\n",
      "  89.06272016  91.2632704   86.69123338  88.72844474  84.25796558\n",
      "  80.78192886  80.66108519  77.97830142  78.76766521  76.45662878\n",
      "  78.56706736  74.72518178  72.75461807  77.79481547  80.49169668\n",
      "  78.11024822  80.23467166  79.10842996  76.37585794  77.32014018\n",
      "  80.43604726  81.48873531  82.52297267  80.80341206  81.68592645\n",
      "  76.95189565  77.24331377  75.88456305  76.79776159  78.50310132\n",
      "  84.21078038  83.82021441  83.47095083  82.20961947  76.60417018\n",
      "  70.06451721  69.22838328  67.34179145  67.12175118  68.74525944\n",
      "  65.7586859   69.05258892  73.59035726  73.70703535  74.31013359\n",
      "  70.02633492  68.13526087  67.27146517  66.22715333  70.2742479\n",
      "  71.55268756  71.5382261   70.55178517  69.29577041  70.40254234\n",
      "  72.09448884  70.75048209  70.73609177  70.55867267  71.07556551\n",
      "  72.49186794  74.85689603  73.21871673  73.81712621  68.53709617\n",
      "  64.15133067  65.56645704  64.13261718  61.52606228  61.39590455\n",
      "  61.49260663  63.57458535  62.56209638  63.21818427  63.70948697\n",
      "  64.64866685  65.97667858  68.56185551  67.93147426  69.13481511\n",
      "  71.9044818   73.64550458  75.925494    78.63081751  78.8771471\n",
      "  77.81992247  76.27411672  72.53135952  72.23520528  73.66299493\n",
      "  73.49909296  73.76037917  76.36472273  77.52184305  76.91401394\n",
      "  77.66685228  81.15769348  84.70615933  84.719955    83.51162289\n",
      "  78.22296121  72.51451143  65.42015565  63.48992557  64.61647225\n",
      "  68.5667812   71.6685705   73.13703139  73.23512499  68.92628195\n",
      "  66.30931774  66.5611173   65.0703119   64.59062858  65.79968109\n",
      "  66.1265873   66.43432949  66.93487688  64.33153564  62.44894113\n",
      "  62.62220142  61.29554911  58.41094628  57.1018831   55.05074474\n",
      "  52.49245003  52.07750769  50.58497293  50.83082866  53.11456859\n",
      "  51.42523151  50.36094485  49.1010112   49.11852043  48.98553072\n",
      "  48.26774306  49.42824367  50.61686908  50.94517485  49.97296318\n",
      "  47.48289562  48.16109217  48.88368635  52.23679971  51.13784725\n",
      "  50.00319958  49.89383966  50.21882491  50.76042464  50.66369566\n",
      "  50.62552634  48.93344707  49.6073296   48.15215488  46.72500839\n",
      "  46.12972535  46.7004084   45.03315359  42.93661656  43.50152978\n",
      "  41.99536458  43.120094    45.54730301  44.48260346  44.04458679\n",
      "  43.82231074  42.87854211  42.48520255  40.92808472  36.98143377\n",
      "  37.94192039  34.42225866  32.35201457  36.02645709  34.87371457\n",
      "  34.3446572   34.48057403  36.0776682   36.09886163  36.31847004\n",
      "  39.87950013  41.78195273  43.02906638  45.91607852  49.53700097\n",
      "  47.67662976  44.55452573  46.09145034  44.60885661  44.82169033\n",
      "  43.13979892  43.11288228  42.68922333  41.78207805  42.59649063\n",
      "  46.76931461  46.30249255  45.2925894   46.40963912  46.82807399\n",
      "  48.86912963  47.14700547  46.26567     47.84417811  48.63208089\n",
      "  48.81625716  48.94315861  47.85305699  47.61081011  48.77913616\n",
      "  48.62926289  51.2898275   49.36514703  48.51517964  49.12854761\n",
      "  49.04507771  51.07917755  52.17165963  52.28296223  54.00273614\n",
      "  53.42376464  40.17446615  38.28280634  38.84183857  38.76869781\n",
      "  37.43736345  38.73426627  39.753694    39.27465589  38.64894019\n",
      "  37.35372622  38.13122193  38.2298851   38.00473118  37.23552405\n",
      "  35.3350138   33.88787008  34.37434686  33.44338859  33.77247817\n",
      "  34.08020208  35.11418041  35.85151098  35.78749191  34.32569274\n",
      "  33.48415615  32.57227413  32.23709798  32.15664088  32.00396504\n",
      "  32.93017471  34.21403483  34.09224663  32.87006604  32.95977776\n",
      "  32.24843893  31.64423051  30.86009972  29.07815258  28.24517955\n",
      "  28.82492926  31.5641722   33.40835492  32.89790324  32.89655573\n",
      "  32.74792569  30.44354475  31.73484887  30.09681585  31.36315696\n",
      "  31.2875916   29.95580405  29.96880015  31.08342873  32.33483905\n",
      "  32.29943863  32.43737006  32.58043402  31.57439398  30.54491812\n",
      "  28.50253405  27.29541751  27.68995046  27.74951183  27.75602729\n",
      "  25.72222671  26.68835685  28.97282967  28.05123391  28.4812125\n",
      "  28.30740896  27.0160462   26.55432881  26.57278677  27.65729322\n",
      "  29.54607386  27.9570432   27.36390767  27.8831969   27.41241493\n",
      "  27.61870505  28.15610017  28.20803365  27.57551108  29.08800244\n",
      "  28.25623162  28.94707324  31.190121    30.67809722  30.92605663\n",
      "  29.83193081  29.11500947  29.25130501  28.7362926   28.87367313\n",
      "  31.60000447  33.86656927  33.9878544   34.54719241  33.89742016\n",
      "  35.33540383  35.65829407  36.54579917  35.35032774  34.69700943\n",
      "  34.83692575  35.78192464  34.91899705  35.83178482  35.90919352\n",
      "  34.23028841  30.60202768  27.5640351   26.76852778  25.96052791\n",
      "  24.34887354  23.36117718  22.75214168  23.72823914  23.78560965\n",
      "  24.06122885  22.98564102  23.44437882  24.5052185   23.57619543\n",
      "  24.61692026  24.74775524  23.40456807  25.22741616  24.64739796\n",
      "  25.15105007  16.60930196  18.52850201  19.37702996  19.09805642\n",
      "  18.64919177  18.60122435  20.12403137  18.53885497  18.03973112\n",
      "  18.26153987  17.78196412  19.07148358  19.87093664  20.07686342\n",
      "  20.07067306  20.31799     20.46738436  19.83547823  18.40868768\n",
      "  18.28670984  18.29039303  18.15223347  17.65586584  17.10391422\n",
      "  17.04513981  16.46271153  14.94080779  15.14705222  15.26290619\n",
      "  15.41195788  16.05385477  16.55849181  16.38740882  16.87809668\n",
      "  16.7525427   17.25247739  17.27858668  16.27546816  16.65177413\n",
      "  17.2109965   16.46154099  16.25455155  15.95901328  15.68857079\n",
      "  15.38839109  15.17512181  14.92919633  13.57174819  13.34036763\n",
      "  13.46590721  13.39960047  13.03162848  13.52636777  13.58757926\n",
      "  13.20720505  13.27123863  13.46122948  12.82870433  12.72075903\n",
      "  13.51960265  13.86420362  13.38572593  13.4171904   13.17632649\n",
      "  13.93855456  13.80829564  13.48766377  13.56202006  13.03896772\n",
      "  12.48194821  11.98332707  10.66999914  11.06859353  10.9534607\n",
      "  11.10976492  11.09558065  10.17204369   9.97276645  10.16211695\n",
      "  10.27705913  10.13363514   9.65481855  10.24572452  10.64425739\n",
      "  10.45373819   9.74837066   9.86879512   9.96195007   9.26865204\n",
      "   9.13886854   8.46713986   8.15230984   8.44162207   8.45024928\n",
      "   8.58551667   8.4823671    8.61666795   8.59663543   8.51263767\n",
      "   8.15626682   8.23365966   8.13139682   7.87910993   7.83131365\n",
      "   7.70210281   7.85598589   7.79994768   7.81877497   8.12364427\n",
      "   8.36472241   8.28687574   8.3586661    8.24772359   8.29706725\n",
      "   7.8931396    8.50170427  -3.08435607  15.63783893  15.97107555\n",
      "  13.39929955  13.08914116  12.60607667  11.80226306  15.28241105\n",
      "  18.17299213  13.75505239  13.51549373  12.67544172  12.30812649\n",
      "  12.18721984  12.34756221  12.13944105  11.85768909  13.27823076\n",
      "  13.52852616  14.64348712  13.63642919  14.88349283  17.12056321\n",
      "  15.63351835  14.65751006  12.27712582  11.86275551  11.73875291\n",
      "  11.86532193  11.12120031  10.77926507  10.15346787   9.3604163\n",
      "   9.97425494  10.04357312  10.05631851  11.48754605  12.63566183\n",
      "  13.76273386  14.57650704  13.10499057  11.70606549  11.83173309\n",
      "   9.94740896   9.35387729   9.28464828   8.50861804   8.98379566\n",
      "   8.50570757   7.78863533   7.55526769   8.22716884   9.13139116\n",
      "   9.85830364   9.77385742  13.72298131  15.0798759   11.0562848\n",
      "  10.70583914  11.2508318 ]\n",
      "R2 Score of pickle ensemble model : 0.9982187803121194\n"
     ]
    }
   ],
   "source": [
    "import joblib\n",
    "\n",
    "# Save the model to a file\n",
    "joblib.dump(votingmodel, 'Models/TCS_ensemble_model.joblib')\n",
    "# Load the model from the file\n",
    "loaded_model = joblib.load('Models/TCS_ensemble_model.joblib')\n",
    "\n",
    "# Now you can use loaded_model to make predictions\n",
    "predictions = loaded_model.predict(xtest)\n",
    "print(predictions)\n",
    "r2scoree = r2_score(ytest,predictions)\n",
    "print(f\"R2 Score of pickle ensemble model : {r2scoree}\")"
   ]
  },
  {
   "cell_type": "markdown",
   "id": "087ee352",
   "metadata": {},
   "source": [
    "# Testing on Sample Data"
   ]
  },
  {
   "cell_type": "code",
   "execution_count": 19,
   "id": "a8a63615",
   "metadata": {},
   "outputs": [
    {
     "data": {
      "text/html": [
       "<div>\n",
       "<style scoped>\n",
       "    .dataframe tbody tr th:only-of-type {\n",
       "        vertical-align: middle;\n",
       "    }\n",
       "\n",
       "    .dataframe tbody tr th {\n",
       "        vertical-align: top;\n",
       "    }\n",
       "\n",
       "    .dataframe thead th {\n",
       "        text-align: right;\n",
       "    }\n",
       "</style>\n",
       "<table border=\"1\" class=\"dataframe\">\n",
       "  <thead>\n",
       "    <tr style=\"text-align: right;\">\n",
       "      <th></th>\n",
       "      <th>open</th>\n",
       "      <th>high</th>\n",
       "      <th>low</th>\n",
       "      <th>close</th>\n",
       "      <th>volume</th>\n",
       "    </tr>\n",
       "    <tr>\n",
       "      <th>date</th>\n",
       "      <th></th>\n",
       "      <th></th>\n",
       "      <th></th>\n",
       "      <th></th>\n",
       "      <th></th>\n",
       "    </tr>\n",
       "  </thead>\n",
       "  <tbody>\n",
       "    <tr>\n",
       "      <th>2020-06-26</th>\n",
       "      <td>44.10</td>\n",
       "      <td>48.000</td>\n",
       "      <td>42.45</td>\n",
       "      <td>47.10</td>\n",
       "      <td>38651</td>\n",
       "    </tr>\n",
       "    <tr>\n",
       "      <th>2022-04-08</th>\n",
       "      <td>117.30</td>\n",
       "      <td>120.825</td>\n",
       "      <td>116.55</td>\n",
       "      <td>117.15</td>\n",
       "      <td>17874</td>\n",
       "    </tr>\n",
       "    <tr>\n",
       "      <th>2019-11-20</th>\n",
       "      <td>56.10</td>\n",
       "      <td>56.400</td>\n",
       "      <td>54.30</td>\n",
       "      <td>55.95</td>\n",
       "      <td>17957</td>\n",
       "    </tr>\n",
       "    <tr>\n",
       "      <th>2018-12-07</th>\n",
       "      <td>77.85</td>\n",
       "      <td>81.900</td>\n",
       "      <td>75.30</td>\n",
       "      <td>76.65</td>\n",
       "      <td>17740</td>\n",
       "    </tr>\n",
       "    <tr>\n",
       "      <th>2023-01-23</th>\n",
       "      <td>73.35</td>\n",
       "      <td>75.000</td>\n",
       "      <td>72.60</td>\n",
       "      <td>73.50</td>\n",
       "      <td>17379</td>\n",
       "    </tr>\n",
       "    <tr>\n",
       "      <th>2021-10-19</th>\n",
       "      <td>151.95</td>\n",
       "      <td>156.300</td>\n",
       "      <td>151.95</td>\n",
       "      <td>153.00</td>\n",
       "      <td>32907</td>\n",
       "    </tr>\n",
       "  </tbody>\n",
       "</table>\n",
       "</div>"
      ],
      "text/plain": [
       "              open     high     low   close  volume\n",
       "date                                               \n",
       "2020-06-26   44.10   48.000   42.45   47.10   38651\n",
       "2022-04-08  117.30  120.825  116.55  117.15   17874\n",
       "2019-11-20   56.10   56.400   54.30   55.95   17957\n",
       "2018-12-07   77.85   81.900   75.30   76.65   17740\n",
       "2023-01-23   73.35   75.000   72.60   73.50   17379\n",
       "2021-10-19  151.95  156.300  151.95  153.00   32907"
      ]
     },
     "execution_count": 19,
     "metadata": {},
     "output_type": "execute_result"
    }
   ],
   "source": [
    "tcs.sample(6)"
   ]
  },
  {
   "cell_type": "markdown",
   "id": "be6776dc",
   "metadata": {},
   "source": [
    "## With Pickle File"
   ]
  },
  {
   "cell_type": "code",
   "execution_count": 20,
   "id": "fcf12fb0",
   "metadata": {},
   "outputs": [
    {
     "name": "stdout",
     "output_type": "stream",
     "text": [
      "45.62188804455464\n"
     ]
    }
   ],
   "source": [
    "import pickle \n",
    "filename = \"Models/TCS_ensemble_model.pkl\"\n",
    "with open(filename, 'rb') as file:\n",
    "    loaded_model = pickle.load(file)\n",
    "    \n",
    "sample = np.array([44.10, 48.000, 42.45, 38651])\n",
    "sample_reshaped = pd.DataFrame([sample], columns=['open','high','low','volume'])\n",
    "prediction = loaded_model.predict(sample_reshaped)\n",
    "print(prediction[0])"
   ]
  },
  {
   "cell_type": "markdown",
   "id": "7b5d7536",
   "metadata": {},
   "source": [
    "## with Joblib file"
   ]
  },
  {
   "cell_type": "code",
   "execution_count": 21,
   "id": "5ab03070",
   "metadata": {},
   "outputs": [
    {
     "name": "stdout",
     "output_type": "stream",
     "text": [
      "45.62188804455464\n"
     ]
    }
   ],
   "source": [
    "import joblib\n",
    "\n",
    "amzn_model = joblib.load(\"Models/TCS_ensemble_model.joblib\")\n",
    "prediction2 = amzn_model.predict(sample_reshaped)\n",
    "print(prediction2[0])"
   ]
  },
  {
   "cell_type": "markdown",
   "id": "4f9ab966",
   "metadata": {},
   "source": [
    "## Closing Statement\n",
    "\n",
    "In this project, we delved into the realm of stock price prediction, focusing on Amazon's stock data. By leveraging the power of ensemble learning, specifically a voting ensemble model, we aimed to construct a robust and accurate predictive model. \n",
    "\n",
    "Through meticulous data preprocessing, feature engineering, and model training, we achieved promising results. The voting ensemble model, composed of multiple diverse base models, demonstrated superior performance in predicting future stock closing prices.\n",
    "\n",
    "We believe that this work contributes to the ongoing research in stock market prediction and offers valuable insights for investors and financial analysts. \n",
    "\n",
    "**Footnote:**\n",
    "\n",
    "*This project was completed by **Geetanshu Dev Meshram** on [4 November 2024].*"
   ]
  },
  {
   "cell_type": "code",
   "execution_count": null,
   "id": "394ca3bc",
   "metadata": {},
   "outputs": [],
   "source": []
  }
 ],
 "metadata": {
  "kernelspec": {
   "display_name": "Python 3 (ipykernel)",
   "language": "python",
   "name": "python3"
  },
  "language_info": {
   "codemirror_mode": {
    "name": "ipython",
    "version": 3
   },
   "file_extension": ".py",
   "mimetype": "text/x-python",
   "name": "python",
   "nbconvert_exporter": "python",
   "pygments_lexer": "ipython3",
   "version": "3.9.12"
  }
 },
 "nbformat": 4,
 "nbformat_minor": 5
}
