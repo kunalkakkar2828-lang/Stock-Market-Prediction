{
 "cells": [
  {
   "cell_type": "markdown",
   "metadata": {},
   "source": [
    "# Stock Market Prediction using Numerical and Textual Analysis "
   ]
  },
  {
   "cell_type": "markdown",
   "metadata": {},
   "source": [
    "    "
   ]
  },
  {
   "cell_type": "markdown",
   "metadata": {},
   "source": [
    "# Task 7\n",
    "\n",
    "## Numerical Analysis "
   ]
  },
  {
   "cell_type": "markdown",
   "metadata": {},
   "source": [
    "#### Import the libraries we need."
   ]
  },
  {
   "cell_type": "code",
   "execution_count": 732,
   "metadata": {},
   "outputs": [
    {
     "name": "stderr",
     "output_type": "stream",
     "text": [
      "[nltk_data] Downloading package stopwords to\n",
      "[nltk_data]     C:\\Users\\Thinkpad\\AppData\\Roaming\\nltk_data...\n",
      "[nltk_data]   Package stopwords is already up-to-date!\n",
      "[nltk_data] Downloading package vader_lexicon to\n",
      "[nltk_data]     C:\\Users\\Thinkpad\\AppData\\Roaming\\nltk_data...\n",
      "[nltk_data]   Package vader_lexicon is already up-to-date!\n"
     ]
    },
    {
     "name": "stdout",
     "output_type": "stream",
     "text": [
      "Requirement already satisfied: pmdarima in c:\\users\\thinkpad\\anaconda3\\lib\\site-packages (2.0.4)\n",
      "Requirement already satisfied: joblib>=0.11 in c:\\users\\thinkpad\\anaconda3\\lib\\site-packages (from pmdarima) (1.2.0)\n",
      "Requirement already satisfied: Cython!=0.29.18,!=0.29.31,>=0.29 in c:\\users\\thinkpad\\anaconda3\\lib\\site-packages (from pmdarima) (3.0.10)\n",
      "Requirement already satisfied: numpy>=1.21.2 in c:\\users\\thinkpad\\anaconda3\\lib\\site-packages (from pmdarima) (1.24.3)\n",
      "Requirement already satisfied: pandas>=0.19 in c:\\users\\thinkpad\\anaconda3\\lib\\site-packages (from pmdarima) (1.5.3)\n",
      "Requirement already satisfied: scikit-learn>=0.22 in c:\\users\\thinkpad\\anaconda3\\lib\\site-packages (from pmdarima) (1.3.2)\n",
      "Requirement already satisfied: scipy>=1.3.2 in c:\\users\\thinkpad\\anaconda3\\lib\\site-packages (from pmdarima) (1.10.1)\n",
      "Requirement already satisfied: statsmodels>=0.13.2 in c:\\users\\thinkpad\\anaconda3\\lib\\site-packages (from pmdarima) (0.14.0)\n",
      "Requirement already satisfied: urllib3 in c:\\users\\thinkpad\\anaconda3\\lib\\site-packages (from pmdarima) (1.26.16)\n",
      "Requirement already satisfied: setuptools!=50.0.0,>=38.6.0 in c:\\users\\thinkpad\\anaconda3\\lib\\site-packages (from pmdarima) (68.0.0)\n",
      "Requirement already satisfied: packaging>=17.1 in c:\\users\\thinkpad\\anaconda3\\lib\\site-packages (from pmdarima) (23.0)\n",
      "Requirement already satisfied: python-dateutil>=2.8.1 in c:\\users\\thinkpad\\anaconda3\\lib\\site-packages (from pandas>=0.19->pmdarima) (2.8.2)\n",
      "Requirement already satisfied: pytz>=2020.1 in c:\\users\\thinkpad\\anaconda3\\lib\\site-packages (from pandas>=0.19->pmdarima) (2022.7)\n",
      "Requirement already satisfied: threadpoolctl>=2.0.0 in c:\\users\\thinkpad\\anaconda3\\lib\\site-packages (from scikit-learn>=0.22->pmdarima) (2.2.0)\n",
      "Requirement already satisfied: patsy>=0.5.2 in c:\\users\\thinkpad\\anaconda3\\lib\\site-packages (from statsmodels>=0.13.2->pmdarima) (0.5.3)\n",
      "Requirement already satisfied: six in c:\\users\\thinkpad\\anaconda3\\lib\\site-packages (from patsy>=0.5.2->statsmodels>=0.13.2->pmdarima) (1.16.0)\n"
     ]
    }
   ],
   "source": [
    "# Pandas for Data Manipulation\n",
    "import pandas as pd\n",
    "\n",
    "import numpy as np\n",
    "\n",
    "# Matplotlib for visualization\n",
    "import matplotlib.pyplot as plt\n",
    "\n",
    "# display plots in the notebook\n",
    "%matplotlib inline \n",
    "\n",
    "# Seaborn for easier visualization\n",
    "import seaborn as sns\n",
    "\n",
    "import warnings\n",
    "warnings.filterwarnings('ignore')\n",
    "import itertools\n",
    "from statsmodels.tsa.stattools import adfuller, acf, pacf\n",
    "from statsmodels.tsa.arima_model import ARIMA\n",
    "from statsmodels.tsa.statespace.sarimax import SARIMAX\n",
    "\n",
    "import nltk\n",
    "import re\n",
    "from nltk.corpus import stopwords\n",
    "nltk.download('stopwords')\n",
    "nltk.download('vader_lexicon')\n",
    "\n",
    "from nltk.sentiment.vader import SentimentIntensityAnalyzer\n",
    "analyser = SentimentIntensityAnalyzer()\n",
    "\n",
    "from textblob import TextBlob\n",
    "\n",
    "from sklearn.preprocessing import MinMaxScaler\n",
    "from nltk.stem.porter import PorterStemmer\n",
    "\n",
    "from sklearn.metrics import mean_squared_error\n",
    "from sklearn.model_selection import train_test_split\n",
    "from sklearn.ensemble import RandomForestRegressor, AdaBoostRegressor\n",
    "from sklearn.tree import DecisionTreeRegressor\n",
    "#import xgboost\n",
    "#import lightgbm\n",
    "\n",
    "from pandas.plotting import lag_plot\n",
    "\n",
    "# For reading stock data from yahoo\n",
    "#from pandas_datareader.data import DataReader\n",
    "# For time stamps\n",
    "from pandas import datetime\n",
    "\n",
    "!pip install pmdarima"
   ]
  },
  {
   "cell_type": "markdown",
   "metadata": {},
   "source": [
    "#### Importing and Reading the datasets"
   ]
  },
  {
   "cell_type": "code",
   "execution_count": 733,
   "metadata": {
    "scrolled": false
   },
   "outputs": [
    {
     "data": {
      "text/html": [
       "<div>\n",
       "<style scoped>\n",
       "    .dataframe tbody tr th:only-of-type {\n",
       "        vertical-align: middle;\n",
       "    }\n",
       "\n",
       "    .dataframe tbody tr th {\n",
       "        vertical-align: top;\n",
       "    }\n",
       "\n",
       "    .dataframe thead th {\n",
       "        text-align: right;\n",
       "    }\n",
       "</style>\n",
       "<table border=\"1\" class=\"dataframe\">\n",
       "  <thead>\n",
       "    <tr style=\"text-align: right;\">\n",
       "      <th></th>\n",
       "      <th>Date</th>\n",
       "      <th>Open</th>\n",
       "      <th>High</th>\n",
       "      <th>Low</th>\n",
       "      <th>Close</th>\n",
       "      <th>Adj Close</th>\n",
       "      <th>Volume</th>\n",
       "    </tr>\n",
       "  </thead>\n",
       "  <tbody>\n",
       "    <tr>\n",
       "      <th>0</th>\n",
       "      <td>2019-12-17</td>\n",
       "      <td>41052.359375</td>\n",
       "      <td>41401.648438</td>\n",
       "      <td>41005.179688</td>\n",
       "      <td>41352.171875</td>\n",
       "      <td>41352.171875</td>\n",
       "      <td>19000.0</td>\n",
       "    </tr>\n",
       "    <tr>\n",
       "      <th>1</th>\n",
       "      <td>2019-12-18</td>\n",
       "      <td>41442.750000</td>\n",
       "      <td>41614.769531</td>\n",
       "      <td>41358.468750</td>\n",
       "      <td>41558.570313</td>\n",
       "      <td>41558.570313</td>\n",
       "      <td>24300.0</td>\n",
       "    </tr>\n",
       "    <tr>\n",
       "      <th>2</th>\n",
       "      <td>2019-12-19</td>\n",
       "      <td>41571.820313</td>\n",
       "      <td>41719.289063</td>\n",
       "      <td>41456.398438</td>\n",
       "      <td>41673.921875</td>\n",
       "      <td>41673.921875</td>\n",
       "      <td>33300.0</td>\n",
       "    </tr>\n",
       "    <tr>\n",
       "      <th>3</th>\n",
       "      <td>2019-12-20</td>\n",
       "      <td>41746.199219</td>\n",
       "      <td>41809.960938</td>\n",
       "      <td>41636.109375</td>\n",
       "      <td>41681.539063</td>\n",
       "      <td>41681.539063</td>\n",
       "      <td>33600.0</td>\n",
       "    </tr>\n",
       "    <tr>\n",
       "      <th>4</th>\n",
       "      <td>2019-12-23</td>\n",
       "      <td>41548.261719</td>\n",
       "      <td>41701.621094</td>\n",
       "      <td>41474.609375</td>\n",
       "      <td>41642.660156</td>\n",
       "      <td>41642.660156</td>\n",
       "      <td>6200.0</td>\n",
       "    </tr>\n",
       "  </tbody>\n",
       "</table>\n",
       "</div>"
      ],
      "text/plain": [
       "         Date          Open          High           Low         Close  \\\n",
       "0  2019-12-17  41052.359375  41401.648438  41005.179688  41352.171875   \n",
       "1  2019-12-18  41442.750000  41614.769531  41358.468750  41558.570313   \n",
       "2  2019-12-19  41571.820313  41719.289063  41456.398438  41673.921875   \n",
       "3  2019-12-20  41746.199219  41809.960938  41636.109375  41681.539063   \n",
       "4  2019-12-23  41548.261719  41701.621094  41474.609375  41642.660156   \n",
       "\n",
       "      Adj Close   Volume  \n",
       "0  41352.171875  19000.0  \n",
       "1  41558.570313  24300.0  \n",
       "2  41673.921875  33300.0  \n",
       "3  41681.539063  33600.0  \n",
       "4  41642.660156   6200.0  "
      ]
     },
     "execution_count": 733,
     "metadata": {},
     "output_type": "execute_result"
    }
   ],
   "source": [
    "# Load 'BSESN.csv' in a pandas dataframe 'df'\n",
    "df = pd.read_csv(r'C:\\GG\\Internships\\The Sparks Foundation (TSF)\\Stock analysis\\BSESN.csv')\n",
    "df.head()"
   ]
  },
  {
   "cell_type": "code",
   "execution_count": 734,
   "metadata": {
    "scrolled": true
   },
   "outputs": [
    {
     "data": {
      "text/plain": [
       "(252, 2)"
      ]
     },
     "execution_count": 734,
     "metadata": {},
     "output_type": "execute_result"
    }
   ],
   "source": [
    "df = df[['Date','Close']] \n",
    "df.shape"
   ]
  },
  {
   "cell_type": "code",
   "execution_count": 735,
   "metadata": {},
   "outputs": [
    {
     "data": {
      "text/plain": [
       "Date     0\n",
       "Close    2\n",
       "dtype: int64"
      ]
     },
     "execution_count": 735,
     "metadata": {},
     "output_type": "execute_result"
    }
   ],
   "source": [
    "# Check for any duplicated values\n",
    "df.isnull().sum()"
   ]
  },
  {
   "cell_type": "code",
   "execution_count": 736,
   "metadata": {},
   "outputs": [
    {
     "data": {
      "text/plain": [
       "252"
      ]
     },
     "execution_count": 736,
     "metadata": {},
     "output_type": "execute_result"
    }
   ],
   "source": [
    "len(df)"
   ]
  },
  {
   "cell_type": "markdown",
   "metadata": {},
   "source": [
    "### Data Understanding"
   ]
  },
  {
   "cell_type": "code",
   "execution_count": 737,
   "metadata": {},
   "outputs": [
    {
     "name": "stdout",
     "output_type": "stream",
     "text": [
      "<class 'pandas.core.frame.DataFrame'>\n",
      "RangeIndex: 252 entries, 0 to 251\n",
      "Data columns (total 2 columns):\n",
      " #   Column  Non-Null Count  Dtype         \n",
      "---  ------  --------------  -----         \n",
      " 0   Date    252 non-null    datetime64[ns]\n",
      " 1   Close   250 non-null    float64       \n",
      "dtypes: datetime64[ns](1), float64(1)\n",
      "memory usage: 4.1 KB\n"
     ]
    }
   ],
   "source": [
    "df['Date'] = pd.to_datetime(df.Date, format='%Y-%m-%d')\n",
    "df.info()"
   ]
  },
  {
   "cell_type": "code",
   "execution_count": 738,
   "metadata": {},
   "outputs": [
    {
     "data": {
      "text/html": [
       "<div>\n",
       "<style scoped>\n",
       "    .dataframe tbody tr th:only-of-type {\n",
       "        vertical-align: middle;\n",
       "    }\n",
       "\n",
       "    .dataframe tbody tr th {\n",
       "        vertical-align: top;\n",
       "    }\n",
       "\n",
       "    .dataframe thead th {\n",
       "        text-align: right;\n",
       "    }\n",
       "</style>\n",
       "<table border=\"1\" class=\"dataframe\">\n",
       "  <thead>\n",
       "    <tr style=\"text-align: right;\">\n",
       "      <th></th>\n",
       "      <th>Close</th>\n",
       "    </tr>\n",
       "  </thead>\n",
       "  <tbody>\n",
       "    <tr>\n",
       "      <th>count</th>\n",
       "      <td>250.000000</td>\n",
       "    </tr>\n",
       "    <tr>\n",
       "      <th>mean</th>\n",
       "      <td>37745.454117</td>\n",
       "    </tr>\n",
       "    <tr>\n",
       "      <th>std</th>\n",
       "      <td>4535.304336</td>\n",
       "    </tr>\n",
       "    <tr>\n",
       "      <th>min</th>\n",
       "      <td>25981.240234</td>\n",
       "    </tr>\n",
       "    <tr>\n",
       "      <th>25%</th>\n",
       "      <td>34257.097656</td>\n",
       "    </tr>\n",
       "    <tr>\n",
       "      <th>50%</th>\n",
       "      <td>38425.974610</td>\n",
       "    </tr>\n",
       "    <tr>\n",
       "      <th>75%</th>\n",
       "      <td>41135.233399</td>\n",
       "    </tr>\n",
       "    <tr>\n",
       "      <th>max</th>\n",
       "      <td>46890.339844</td>\n",
       "    </tr>\n",
       "  </tbody>\n",
       "</table>\n",
       "</div>"
      ],
      "text/plain": [
       "              Close\n",
       "count    250.000000\n",
       "mean   37745.454117\n",
       "std     4535.304336\n",
       "min    25981.240234\n",
       "25%    34257.097656\n",
       "50%    38425.974610\n",
       "75%    41135.233399\n",
       "max    46890.339844"
      ]
     },
     "execution_count": 738,
     "metadata": {},
     "output_type": "execute_result"
    }
   ],
   "source": [
    "df.describe()"
   ]
  },
  {
   "cell_type": "code",
   "execution_count": 739,
   "metadata": {},
   "outputs": [
    {
     "data": {
      "image/png": "[encoded data removed]",
      "text/plain": [
       "<Figure size 1000x500 with 1 Axes>"
      ]
     },
     "metadata": {},
     "output_type": "display_data"
    }
   ],
   "source": [
    "plt.figure(figsize=(10,5))\n",
    "plt.title('BSESN Stock Prices')\n",
    "plt.plot(df['Close'])\n",
    "#plt.xlabel('Team')\n",
    "# plt.xticks(np.arange(0,1000, 300), df['Date'][0:1000:300])\n",
    "plt.xticks(rotation=0, fontsize=15)\n",
    "plt.yticks(rotation=0, fontsize=15)\n",
    "plt.ylabel('BSESN')\n",
    "plt.show()\n"
   ]
  },
  {
   "cell_type": "code",
   "execution_count": 740,
   "metadata": {},
   "outputs": [
    {
     "data": {
      "text/plain": [
       "<matplotlib.legend.Legend at 0x14faef5e2d0>"
      ]
     },
     "execution_count": 740,
     "metadata": {},
     "output_type": "execute_result"
    },
    {
     "data": {
      "image/png": "[encoded data removed]",
      "text/plain": [
       "<Figure size 1000x500 with 1 Axes>"
      ]
     },
     "metadata": {},
     "output_type": "display_data"
    }
   ],
   "source": [
    "train_data, test_data = df[0:int(len(df)*0.8)], df[int(len(df)*0.8):]\n",
    "plt.figure(figsize=(10,5))\n",
    "plt.title('BSESN Stock Prices')\n",
    "plt.xlabel('Dates')\n",
    "plt.ylabel('Prices')\n",
    "plt.plot(df['Close'], 'green', label='Training Data')\n",
    "plt.plot(test_data['Close'], 'red', label='Testing Data')\n",
    "#plt.xticks(np.arange(0,1500, 300), df['Date'][0:1500:300])\n",
    "plt.xticks(rotation=0, fontsize=10)\n",
    "plt.yticks(rotation=0, fontsize=10)\n",
    "plt.legend()\n"
   ]
  },
  {
   "cell_type": "markdown",
   "metadata": {},
   "source": [
    "### Plot the Moving Average"
   ]
  },
  {
   "cell_type": "code",
   "execution_count": 741,
   "metadata": {},
   "outputs": [
    {
     "data": {
      "text/plain": [
       "<matplotlib.legend.Legend at 0x14faef6b310>"
      ]
     },
     "execution_count": 741,
     "metadata": {},
     "output_type": "execute_result"
    },
    {
     "data": {
      "image/png": "[encoded data removed]",
      "text/plain": [
       "<Figure size 2000x1000 with 1 Axes>"
      ]
     },
     "metadata": {},
     "output_type": "display_data"
    }
   ],
   "source": [
    "#Plotting moving average\n",
    "close = df['Close']\n",
    "\n",
    "ma = close.rolling(window = 50).mean()\n",
    "std = close.rolling(window = 50).std()\n",
    "\n",
    "plt.figure(figsize=(20,10))\n",
    "df['Close'].plot(color='brown',label='Close')\n",
    "ma.plot(color = 'green',label='Mean Average')\n",
    "std.plot(label = 'Standard Deviation')\n",
    "plt.xticks(rotation=0, fontsize=10)\n",
    "plt.yticks(rotation=0, fontsize=10)\n",
    "plt.legend()"
   ]
  },
  {
   "cell_type": "markdown",
   "metadata": {},
   "source": [
    "### Plot the Returns"
   ]
  },
  {
   "cell_type": "code",
   "execution_count": 742,
   "metadata": {},
   "outputs": [
    {
     "data": {
      "text/plain": [
       "Text(0.5, 1.0, 'Returns')"
      ]
     },
     "execution_count": 742,
     "metadata": {},
     "output_type": "execute_result"
    },
    {
     "data": {
      "image/png": "[encoded data removed]",
      "text/plain": [
       "<Figure size 1000x500 with 1 Axes>"
      ]
     },
     "metadata": {},
     "output_type": "display_data"
    }
   ],
   "source": [
    "#Plotting returns\n",
    "returns = close / close.shift(1) - 1\n",
    "\n",
    "plt.figure(figsize = (10,5))\n",
    "returns.plot(label='Return', color = 'purple')\n",
    "plt.xticks(rotation=0, fontsize=10)\n",
    "plt.yticks(rotation=0, fontsize=10)\n",
    "plt.title(\"Returns\")"
   ]
  },
  {
   "cell_type": "markdown",
   "metadata": {},
   "source": [
    "### TEXTUAL ANALYSIS"
   ]
  },
  {
   "cell_type": "code",
   "execution_count": 743,
   "metadata": {},
   "outputs": [
    {
     "data": {
      "text/html": [
       "<div>\n",
       "<style scoped>\n",
       "    .dataframe tbody tr th:only-of-type {\n",
       "        vertical-align: middle;\n",
       "    }\n",
       "\n",
       "    .dataframe tbody tr th {\n",
       "        vertical-align: top;\n",
       "    }\n",
       "\n",
       "    .dataframe thead th {\n",
       "        text-align: right;\n",
       "    }\n",
       "</style>\n",
       "<table border=\"1\" class=\"dataframe\">\n",
       "  <thead>\n",
       "    <tr style=\"text-align: right;\">\n",
       "      <th></th>\n",
       "      <th>Date</th>\n",
       "      <th>Category</th>\n",
       "      <th>headline_text</th>\n",
       "    </tr>\n",
       "  </thead>\n",
       "  <tbody>\n",
       "    <tr>\n",
       "      <th>0</th>\n",
       "      <td>20010102</td>\n",
       "      <td>unknown</td>\n",
       "      <td>Status quo will not be disturbed at Ayodhya; s...</td>\n",
       "    </tr>\n",
       "    <tr>\n",
       "      <th>1</th>\n",
       "      <td>20010102</td>\n",
       "      <td>unknown</td>\n",
       "      <td>Fissures in Hurriyat over Pak visit</td>\n",
       "    </tr>\n",
       "    <tr>\n",
       "      <th>2</th>\n",
       "      <td>20010102</td>\n",
       "      <td>unknown</td>\n",
       "      <td>America's unwanted heading for India?</td>\n",
       "    </tr>\n",
       "    <tr>\n",
       "      <th>3</th>\n",
       "      <td>20010102</td>\n",
       "      <td>unknown</td>\n",
       "      <td>For bigwigs; it is destination Goa</td>\n",
       "    </tr>\n",
       "    <tr>\n",
       "      <th>4</th>\n",
       "      <td>20010102</td>\n",
       "      <td>unknown</td>\n",
       "      <td>Extra buses to clear tourist traffic</td>\n",
       "    </tr>\n",
       "    <tr>\n",
       "      <th>...</th>\n",
       "      <td>...</td>\n",
       "      <td>...</td>\n",
       "      <td>...</td>\n",
       "    </tr>\n",
       "    <tr>\n",
       "      <th>244</th>\n",
       "      <td>20010104</td>\n",
       "      <td>unknown</td>\n",
       "      <td>Experts discuss horticulture development</td>\n",
       "    </tr>\n",
       "    <tr>\n",
       "      <th>245</th>\n",
       "      <td>20010104</td>\n",
       "      <td>unknown</td>\n",
       "      <td>5 acquitted in trespassing case</td>\n",
       "    </tr>\n",
       "    <tr>\n",
       "      <th>246</th>\n",
       "      <td>20010104</td>\n",
       "      <td>unknown</td>\n",
       "      <td>Development of horticulture stressed</td>\n",
       "    </tr>\n",
       "    <tr>\n",
       "      <th>247</th>\n",
       "      <td>20010104</td>\n",
       "      <td>unknown</td>\n",
       "      <td>New office-bearers for ICSI</td>\n",
       "    </tr>\n",
       "    <tr>\n",
       "      <th>248</th>\n",
       "      <td>20010104</td>\n",
       "      <td>unknown</td>\n",
       "      <td>CM to review security for Premji; Murthy</td>\n",
       "    </tr>\n",
       "  </tbody>\n",
       "</table>\n",
       "<p>249 rows × 3 columns</p>\n",
       "</div>"
      ],
      "text/plain": [
       "         Date Category                                      headline_text\n",
       "0    20010102  unknown  Status quo will not be disturbed at Ayodhya; s...\n",
       "1    20010102  unknown                Fissures in Hurriyat over Pak visit\n",
       "2    20010102  unknown              America's unwanted heading for India?\n",
       "3    20010102  unknown                 For bigwigs; it is destination Goa\n",
       "4    20010102  unknown               Extra buses to clear tourist traffic\n",
       "..        ...      ...                                                ...\n",
       "244  20010104  unknown           Experts discuss horticulture development\n",
       "245  20010104  unknown                    5 acquitted in trespassing case\n",
       "246  20010104  unknown               Development of horticulture stressed\n",
       "247  20010104  unknown                        New office-bearers for ICSI\n",
       "248  20010104  unknown           CM to review security for Premji; Murthy\n",
       "\n",
       "[249 rows x 3 columns]"
      ]
     },
     "execution_count": 743,
     "metadata": {},
     "output_type": "execute_result"
    }
   ],
   "source": [
    "df_news= pd.read_csv(r'C:\\GG\\Internships\\The Sparks Foundation (TSF)\\Stock analysis\\india-news-headlines.csv')\n",
    "df_news"
   ]
  },
  {
   "cell_type": "code",
   "execution_count": 744,
   "metadata": {},
   "outputs": [
    {
     "name": "stdout",
     "output_type": "stream",
     "text": [
      "<class 'pandas.core.frame.DataFrame'>\n",
      "RangeIndex: 248 entries, 1 to 248\n",
      "Data columns (total 2 columns):\n",
      " #   Column         Non-Null Count  Dtype \n",
      "---  ------         --------------  ----- \n",
      " 0   Date           248 non-null    int64 \n",
      " 1   headline_text  248 non-null    object\n",
      "dtypes: int64(1), object(1)\n",
      "memory usage: 4.0+ KB\n"
     ]
    }
   ],
   "source": [
    "# df_news.dropna(inplace=True)\n",
    "\n",
    "df_news.drop(0, inplace=True)\n",
    "df_news.drop('Category', axis = 1, inplace=True)\n",
    "df_news.info()\n",
    "     "
   ]
  },
  {
   "cell_type": "markdown",
   "metadata": {},
   "source": [
    "### Converting the data type of Date Column"
   ]
  },
  {
   "cell_type": "code",
   "execution_count": 745,
   "metadata": {},
   "outputs": [
    {
     "data": {
      "text/html": [
       "<div>\n",
       "<style scoped>\n",
       "    .dataframe tbody tr th:only-of-type {\n",
       "        vertical-align: middle;\n",
       "    }\n",
       "\n",
       "    .dataframe tbody tr th {\n",
       "        vertical-align: top;\n",
       "    }\n",
       "\n",
       "    .dataframe thead th {\n",
       "        text-align: right;\n",
       "    }\n",
       "</style>\n",
       "<table border=\"1\" class=\"dataframe\">\n",
       "  <thead>\n",
       "    <tr style=\"text-align: right;\">\n",
       "      <th></th>\n",
       "      <th>Date</th>\n",
       "      <th>headline_text</th>\n",
       "    </tr>\n",
       "  </thead>\n",
       "  <tbody>\n",
       "    <tr>\n",
       "      <th>1</th>\n",
       "      <td>2001-01-02</td>\n",
       "      <td>Fissures in Hurriyat over Pak visit</td>\n",
       "    </tr>\n",
       "    <tr>\n",
       "      <th>2</th>\n",
       "      <td>2001-01-02</td>\n",
       "      <td>America's unwanted heading for India?</td>\n",
       "    </tr>\n",
       "    <tr>\n",
       "      <th>3</th>\n",
       "      <td>2001-01-02</td>\n",
       "      <td>For bigwigs; it is destination Goa</td>\n",
       "    </tr>\n",
       "    <tr>\n",
       "      <th>4</th>\n",
       "      <td>2001-01-02</td>\n",
       "      <td>Extra buses to clear tourist traffic</td>\n",
       "    </tr>\n",
       "    <tr>\n",
       "      <th>5</th>\n",
       "      <td>2001-01-02</td>\n",
       "      <td>Dilute the power of transfers; says Riberio</td>\n",
       "    </tr>\n",
       "    <tr>\n",
       "      <th>...</th>\n",
       "      <td>...</td>\n",
       "      <td>...</td>\n",
       "    </tr>\n",
       "    <tr>\n",
       "      <th>244</th>\n",
       "      <td>2001-01-04</td>\n",
       "      <td>Experts discuss horticulture development</td>\n",
       "    </tr>\n",
       "    <tr>\n",
       "      <th>245</th>\n",
       "      <td>2001-01-04</td>\n",
       "      <td>5 acquitted in trespassing case</td>\n",
       "    </tr>\n",
       "    <tr>\n",
       "      <th>246</th>\n",
       "      <td>2001-01-04</td>\n",
       "      <td>Development of horticulture stressed</td>\n",
       "    </tr>\n",
       "    <tr>\n",
       "      <th>247</th>\n",
       "      <td>2001-01-04</td>\n",
       "      <td>New office-bearers for ICSI</td>\n",
       "    </tr>\n",
       "    <tr>\n",
       "      <th>248</th>\n",
       "      <td>2001-01-04</td>\n",
       "      <td>CM to review security for Premji; Murthy</td>\n",
       "    </tr>\n",
       "  </tbody>\n",
       "</table>\n",
       "<p>248 rows × 2 columns</p>\n",
       "</div>"
      ],
      "text/plain": [
       "          Date                                headline_text\n",
       "1   2001-01-02          Fissures in Hurriyat over Pak visit\n",
       "2   2001-01-02        America's unwanted heading for India?\n",
       "3   2001-01-02           For bigwigs; it is destination Goa\n",
       "4   2001-01-02         Extra buses to clear tourist traffic\n",
       "5   2001-01-02  Dilute the power of transfers; says Riberio\n",
       "..         ...                                          ...\n",
       "244 2001-01-04     Experts discuss horticulture development\n",
       "245 2001-01-04              5 acquitted in trespassing case\n",
       "246 2001-01-04         Development of horticulture stressed\n",
       "247 2001-01-04                  New office-bearers for ICSI\n",
       "248 2001-01-04     CM to review security for Premji; Murthy\n",
       "\n",
       "[248 rows x 2 columns]"
      ]
     },
     "execution_count": 745,
     "metadata": {},
     "output_type": "execute_result"
    }
   ],
   "source": [
    " #Converting data type of Date column \n",
    " df_news['Date'] = pd.to_datetime(df_news['Date'],format= '%Y%m%d')\n",
    " df_news"
   ]
  },
  {
   "cell_type": "code",
   "execution_count": 746,
   "metadata": {},
   "outputs": [
    {
     "data": {
      "text/html": [
       "<div>\n",
       "<style scoped>\n",
       "    .dataframe tbody tr th:only-of-type {\n",
       "        vertical-align: middle;\n",
       "    }\n",
       "\n",
       "    .dataframe tbody tr th {\n",
       "        vertical-align: top;\n",
       "    }\n",
       "\n",
       "    .dataframe thead th {\n",
       "        text-align: right;\n",
       "    }\n",
       "</style>\n",
       "<table border=\"1\" class=\"dataframe\">\n",
       "  <thead>\n",
       "    <tr style=\"text-align: right;\">\n",
       "      <th></th>\n",
       "      <th>Date</th>\n",
       "      <th>headline_text</th>\n",
       "    </tr>\n",
       "  </thead>\n",
       "  <tbody>\n",
       "    <tr>\n",
       "      <th>0</th>\n",
       "      <td>2001-01-02</td>\n",
       "      <td>Fissures in Hurriyat over Pak visit America's ...</td>\n",
       "    </tr>\n",
       "    <tr>\n",
       "      <th>1</th>\n",
       "      <td>2001-01-03</td>\n",
       "      <td>Powerless north India gropes in the dark Think...</td>\n",
       "    </tr>\n",
       "    <tr>\n",
       "      <th>2</th>\n",
       "      <td>2001-01-04</td>\n",
       "      <td>The string that pulled Stephen Hawking to Indi...</td>\n",
       "    </tr>\n",
       "  </tbody>\n",
       "</table>\n",
       "</div>"
      ],
      "text/plain": [
       "        Date                                      headline_text\n",
       "0 2001-01-02  Fissures in Hurriyat over Pak visit America's ...\n",
       "1 2001-01-03  Powerless north India gropes in the dark Think...\n",
       "2 2001-01-04  The string that pulled Stephen Hawking to Indi..."
      ]
     },
     "execution_count": 746,
     "metadata": {},
     "output_type": "execute_result"
    }
   ],
   "source": [
    "#Grouping the headlines for each day\n",
    "df_news['headline_text'] = df_news.groupby(['Date']).transform(lambda x : ' '.join(x)) \n",
    "df_news = df_news.drop_duplicates() \n",
    "df_news.reset_index(inplace = True, drop = True)\n",
    "df_news"
   ]
  },
  {
   "cell_type": "code",
   "execution_count": 747,
   "metadata": {},
   "outputs": [
    {
     "data": {
      "text/plain": [
       "0    Fissures in Hurriyat over Pak visit America's ...\n",
       "1    Powerless north India gropes in the dark Think...\n",
       "2    The string that pulled Stephen Hawking to Indi...\n",
       "Name: headline_text, dtype: object"
      ]
     },
     "execution_count": 747,
     "metadata": {},
     "output_type": "execute_result"
    }
   ],
   "source": [
    "df_news['headline_text']"
   ]
  },
  {
   "cell_type": "code",
   "execution_count": 748,
   "metadata": {},
   "outputs": [],
   "source": [
    "#Cleaning headlines\n",
    "c = []\n",
    "for i in range(0,len(df_news['headline_text'])):\n",
    "    news = re.sub('[^a-zA-Z]',' ',df_news['headline_text'][i])\n",
    "    news = news.lower()\n",
    "    news = news.split()\n",
    "    #news = [ps.stem(word) for word in news if not word in set(stopwords.words('word'))]\n",
    "    news=' '.join(news)\n",
    "    c.append(news)"
   ]
  },
  {
   "cell_type": "code",
   "execution_count": 749,
   "metadata": {},
   "outputs": [
    {
     "data": {
      "text/html": [
       "<div>\n",
       "<style scoped>\n",
       "    .dataframe tbody tr th:only-of-type {\n",
       "        vertical-align: middle;\n",
       "    }\n",
       "\n",
       "    .dataframe tbody tr th {\n",
       "        vertical-align: top;\n",
       "    }\n",
       "\n",
       "    .dataframe thead th {\n",
       "        text-align: right;\n",
       "    }\n",
       "</style>\n",
       "<table border=\"1\" class=\"dataframe\">\n",
       "  <thead>\n",
       "    <tr style=\"text-align: right;\">\n",
       "      <th></th>\n",
       "      <th>Date</th>\n",
       "      <th>headline_text</th>\n",
       "      <th>News</th>\n",
       "    </tr>\n",
       "  </thead>\n",
       "  <tbody>\n",
       "    <tr>\n",
       "      <th>0</th>\n",
       "      <td>2001-01-02</td>\n",
       "      <td>Fissures in Hurriyat over Pak visit America's ...</td>\n",
       "      <td>fissures in hurriyat over pak visit america s ...</td>\n",
       "    </tr>\n",
       "    <tr>\n",
       "      <th>1</th>\n",
       "      <td>2001-01-03</td>\n",
       "      <td>Powerless north India gropes in the dark Think...</td>\n",
       "      <td>powerless north india gropes in the dark think...</td>\n",
       "    </tr>\n",
       "    <tr>\n",
       "      <th>2</th>\n",
       "      <td>2001-01-04</td>\n",
       "      <td>The string that pulled Stephen Hawking to Indi...</td>\n",
       "      <td>the string that pulled stephen hawking to indi...</td>\n",
       "    </tr>\n",
       "  </tbody>\n",
       "</table>\n",
       "</div>"
      ],
      "text/plain": [
       "        Date                                      headline_text  \\\n",
       "0 2001-01-02  Fissures in Hurriyat over Pak visit America's ...   \n",
       "1 2001-01-03  Powerless north India gropes in the dark Think...   \n",
       "2 2001-01-04  The string that pulled Stephen Hawking to Indi...   \n",
       "\n",
       "                                                News  \n",
       "0  fissures in hurriyat over pak visit america s ...  \n",
       "1  powerless north india gropes in the dark think...  \n",
       "2  the string that pulled stephen hawking to indi...  "
      ]
     },
     "execution_count": 749,
     "metadata": {},
     "output_type": "execute_result"
    }
   ],
   "source": [
    "df_news['News'] = pd.Series(c)\n",
    "df_news"
   ]
  },
  {
   "cell_type": "code",
   "execution_count": 750,
   "metadata": {},
   "outputs": [
    {
     "data": {
      "text/plain": [
       "3"
      ]
     },
     "execution_count": 750,
     "metadata": {},
     "output_type": "execute_result"
    }
   ],
   "source": [
    "#Calculating score for each news headline in the dataset\n",
    "i=0 \n",
    "compound_val = [ ] \n",
    "while i<len(df_news):\n",
    "    \n",
    "    k = analyser.polarity_scores(df_news.iloc[i]['headline_text'])\n",
    "    compound_val.append(k['compound'])\n",
    "    \n",
    "    i = i+1\n",
    "    \n",
    "#converting sentiment values to numpy for easier usage\n",
    "compound_val = np.array(compound_val)\n",
    "len(compound_val)"
   ]
  },
  {
   "cell_type": "code",
   "execution_count": 751,
   "metadata": {},
   "outputs": [],
   "source": [
    "df_news['VADER score'] = compound_val"
   ]
  },
  {
   "cell_type": "code",
   "execution_count": 752,
   "metadata": {},
   "outputs": [
    {
     "data": {
      "text/html": [
       "<div>\n",
       "<style scoped>\n",
       "    .dataframe tbody tr th:only-of-type {\n",
       "        vertical-align: middle;\n",
       "    }\n",
       "\n",
       "    .dataframe tbody tr th {\n",
       "        vertical-align: top;\n",
       "    }\n",
       "\n",
       "    .dataframe thead th {\n",
       "        text-align: right;\n",
       "    }\n",
       "</style>\n",
       "<table border=\"1\" class=\"dataframe\">\n",
       "  <thead>\n",
       "    <tr style=\"text-align: right;\">\n",
       "      <th></th>\n",
       "      <th>Date</th>\n",
       "      <th>headline_text</th>\n",
       "      <th>News</th>\n",
       "      <th>VADER score</th>\n",
       "    </tr>\n",
       "  </thead>\n",
       "  <tbody>\n",
       "    <tr>\n",
       "      <th>0</th>\n",
       "      <td>2001-01-02</td>\n",
       "      <td>Fissures in Hurriyat over Pak visit America's ...</td>\n",
       "      <td>fissures in hurriyat over pak visit america s ...</td>\n",
       "      <td>-0.9822</td>\n",
       "    </tr>\n",
       "    <tr>\n",
       "      <th>1</th>\n",
       "      <td>2001-01-03</td>\n",
       "      <td>Powerless north India gropes in the dark Think...</td>\n",
       "      <td>powerless north india gropes in the dark think...</td>\n",
       "      <td>-0.2640</td>\n",
       "    </tr>\n",
       "    <tr>\n",
       "      <th>2</th>\n",
       "      <td>2001-01-04</td>\n",
       "      <td>The string that pulled Stephen Hawking to Indi...</td>\n",
       "      <td>the string that pulled stephen hawking to indi...</td>\n",
       "      <td>0.9708</td>\n",
       "    </tr>\n",
       "  </tbody>\n",
       "</table>\n",
       "</div>"
      ],
      "text/plain": [
       "        Date                                      headline_text  \\\n",
       "0 2001-01-02  Fissures in Hurriyat over Pak visit America's ...   \n",
       "1 2001-01-03  Powerless north India gropes in the dark Think...   \n",
       "2 2001-01-04  The string that pulled Stephen Hawking to Indi...   \n",
       "\n",
       "                                                News  VADER score  \n",
       "0  fissures in hurriyat over pak visit america s ...      -0.9822  \n",
       "1  powerless north india gropes in the dark think...      -0.2640  \n",
       "2  the string that pulled stephen hawking to indi...       0.9708  "
      ]
     },
     "execution_count": 752,
     "metadata": {},
     "output_type": "execute_result"
    }
   ],
   "source": [
    "df_news.head()"
   ]
  },
  {
   "cell_type": "code",
   "execution_count": 753,
   "metadata": {},
   "outputs": [],
   "source": [
    "# Calculating Sentiment value\n",
    "i = 0\n",
    "predicted_val = [ ]\n",
    "while(i<len(df_news)):\n",
    "    if ((df_news.iloc[i]['VADER score'] >= 0.1)):\n",
    "        predicted_val.append('positive')\n",
    "        i = i+1\n",
    "    elif ((df_news.iloc[i]['VADER score'] > -0.1) & (df_news.iloc[i]['VADER score'] < 0.1)):\n",
    "        predicted_val.append('neutral')\n",
    "        i = i+1\n",
    "    elif ((df_news.iloc[i]['VADER score'] <= -0.1)):\n",
    "        predicted_val.append('negative')\n",
    "        i = i+1"
   ]
  },
  {
   "cell_type": "code",
   "execution_count": 754,
   "metadata": {},
   "outputs": [
    {
     "data": {
      "text/html": [
       "<div>\n",
       "<style scoped>\n",
       "    .dataframe tbody tr th:only-of-type {\n",
       "        vertical-align: middle;\n",
       "    }\n",
       "\n",
       "    .dataframe tbody tr th {\n",
       "        vertical-align: top;\n",
       "    }\n",
       "\n",
       "    .dataframe thead th {\n",
       "        text-align: right;\n",
       "    }\n",
       "</style>\n",
       "<table border=\"1\" class=\"dataframe\">\n",
       "  <thead>\n",
       "    <tr style=\"text-align: right;\">\n",
       "      <th></th>\n",
       "      <th>Date</th>\n",
       "      <th>headline_text</th>\n",
       "      <th>News</th>\n",
       "      <th>VADER score</th>\n",
       "      <th>sentiment</th>\n",
       "    </tr>\n",
       "  </thead>\n",
       "  <tbody>\n",
       "    <tr>\n",
       "      <th>0</th>\n",
       "      <td>2001-01-02</td>\n",
       "      <td>Fissures in Hurriyat over Pak visit America's ...</td>\n",
       "      <td>fissures in hurriyat over pak visit america s ...</td>\n",
       "      <td>-0.9822</td>\n",
       "      <td>negative</td>\n",
       "    </tr>\n",
       "    <tr>\n",
       "      <th>1</th>\n",
       "      <td>2001-01-03</td>\n",
       "      <td>Powerless north India gropes in the dark Think...</td>\n",
       "      <td>powerless north india gropes in the dark think...</td>\n",
       "      <td>-0.2640</td>\n",
       "      <td>negative</td>\n",
       "    </tr>\n",
       "    <tr>\n",
       "      <th>2</th>\n",
       "      <td>2001-01-04</td>\n",
       "      <td>The string that pulled Stephen Hawking to Indi...</td>\n",
       "      <td>the string that pulled stephen hawking to indi...</td>\n",
       "      <td>0.9708</td>\n",
       "      <td>positive</td>\n",
       "    </tr>\n",
       "  </tbody>\n",
       "</table>\n",
       "</div>"
      ],
      "text/plain": [
       "        Date                                      headline_text  \\\n",
       "0 2001-01-02  Fissures in Hurriyat over Pak visit America's ...   \n",
       "1 2001-01-03  Powerless north India gropes in the dark Think...   \n",
       "2 2001-01-04  The string that pulled Stephen Hawking to Indi...   \n",
       "\n",
       "                                                News  VADER score sentiment  \n",
       "0  fissures in hurriyat over pak visit america s ...      -0.9822  negative  \n",
       "1  powerless north india gropes in the dark think...      -0.2640  negative  \n",
       "2  the string that pulled stephen hawking to indi...       0.9708  positive  "
      ]
     },
     "execution_count": 754,
     "metadata": {},
     "output_type": "execute_result"
    }
   ],
   "source": [
    "df_news['sentiment'] = predicted_val\n",
    "df_news.head()"
   ]
  },
  {
   "cell_type": "code",
   "execution_count": 755,
   "metadata": {},
   "outputs": [
    {
     "data": {
      "text/plain": [
       "negative    2\n",
       "positive    1\n",
       "Name: sentiment, dtype: int64"
      ]
     },
     "execution_count": 755,
     "metadata": {},
     "output_type": "execute_result"
    }
   ],
   "source": [
    "df_news.sentiment.value_counts()"
   ]
  },
  {
   "cell_type": "code",
   "execution_count": 756,
   "metadata": {
    "scrolled": true
   },
   "outputs": [],
   "source": [
    "#df_merge = pd.merge(df, df_news, how='left', on='Date')\n",
    "#print(df_merge)"
   ]
  },
  {
   "cell_type": "code",
   "execution_count": 757,
   "metadata": {},
   "outputs": [],
   "source": [
    "#news_df=df_merge[['Date','headline_text']]\n",
    "#news_df"
   ]
  },
  {
   "cell_type": "markdown",
   "metadata": {},
   "source": [
    "### Understanding of data types of the features."
   ]
  },
  {
   "cell_type": "code",
   "execution_count": 758,
   "metadata": {},
   "outputs": [],
   "source": [
    "#Functions to get the subjectivity and polarity\n",
    "def getSubjectivity(text):\n",
    "  return TextBlob(text).sentiment.subjectivity\n",
    "\n",
    "def getPolarity(text):\n",
    "  return  TextBlob(text).sentiment.polarity"
   ]
  },
  {
   "cell_type": "code",
   "execution_count": 759,
   "metadata": {},
   "outputs": [
    {
     "data": {
      "text/html": [
       "<div>\n",
       "<style scoped>\n",
       "    .dataframe tbody tr th:only-of-type {\n",
       "        vertical-align: middle;\n",
       "    }\n",
       "\n",
       "    .dataframe tbody tr th {\n",
       "        vertical-align: top;\n",
       "    }\n",
       "\n",
       "    .dataframe thead th {\n",
       "        text-align: right;\n",
       "    }\n",
       "</style>\n",
       "<table border=\"1\" class=\"dataframe\">\n",
       "  <thead>\n",
       "    <tr style=\"text-align: right;\">\n",
       "      <th></th>\n",
       "      <th>Date</th>\n",
       "      <th>headline_text</th>\n",
       "      <th>News</th>\n",
       "      <th>VADER score</th>\n",
       "      <th>sentiment</th>\n",
       "      <th>Subjectivity</th>\n",
       "      <th>Polarity</th>\n",
       "    </tr>\n",
       "  </thead>\n",
       "  <tbody>\n",
       "    <tr>\n",
       "      <th>0</th>\n",
       "      <td>2001-01-02</td>\n",
       "      <td>Fissures in Hurriyat over Pak visit America's ...</td>\n",
       "      <td>fissures in hurriyat over pak visit america s ...</td>\n",
       "      <td>-0.9822</td>\n",
       "      <td>negative</td>\n",
       "      <td>0.282333</td>\n",
       "      <td>0.151333</td>\n",
       "    </tr>\n",
       "    <tr>\n",
       "      <th>1</th>\n",
       "      <td>2001-01-03</td>\n",
       "      <td>Powerless north India gropes in the dark Think...</td>\n",
       "      <td>powerless north india gropes in the dark think...</td>\n",
       "      <td>-0.2640</td>\n",
       "      <td>negative</td>\n",
       "      <td>0.407692</td>\n",
       "      <td>0.088462</td>\n",
       "    </tr>\n",
       "    <tr>\n",
       "      <th>2</th>\n",
       "      <td>2001-01-04</td>\n",
       "      <td>The string that pulled Stephen Hawking to Indi...</td>\n",
       "      <td>the string that pulled stephen hawking to indi...</td>\n",
       "      <td>0.9708</td>\n",
       "      <td>positive</td>\n",
       "      <td>0.444962</td>\n",
       "      <td>0.121856</td>\n",
       "    </tr>\n",
       "  </tbody>\n",
       "</table>\n",
       "</div>"
      ],
      "text/plain": [
       "        Date                                      headline_text  \\\n",
       "0 2001-01-02  Fissures in Hurriyat over Pak visit America's ...   \n",
       "1 2001-01-03  Powerless north India gropes in the dark Think...   \n",
       "2 2001-01-04  The string that pulled Stephen Hawking to Indi...   \n",
       "\n",
       "                                                News  VADER score sentiment  \\\n",
       "0  fissures in hurriyat over pak visit america s ...      -0.9822  negative   \n",
       "1  powerless north india gropes in the dark think...      -0.2640  negative   \n",
       "2  the string that pulled stephen hawking to indi...       0.9708  positive   \n",
       "\n",
       "   Subjectivity  Polarity  \n",
       "0      0.282333  0.151333  \n",
       "1      0.407692  0.088462  \n",
       "2      0.444962  0.121856  "
      ]
     },
     "execution_count": 759,
     "metadata": {},
     "output_type": "execute_result"
    }
   ],
   "source": [
    "#Adding subjectivity and polarity columns\n",
    "df_news['Subjectivity'] = df_news['headline_text'].apply(getSubjectivity)\n",
    "df_news['Polarity'] = df_news['headline_text'].apply(getPolarity)\n",
    "df_news"
   ]
  },
  {
   "cell_type": "code",
   "execution_count": 760,
   "metadata": {},
   "outputs": [
    {
     "data": {
      "text/plain": [
       "<Axes: >"
      ]
     },
     "execution_count": 760,
     "metadata": {},
     "output_type": "execute_result"
    },
    {
     "data": {
      "image/png": "[encoded data removed]",
      "text/plain": [
       "<Figure size 1000x500 with 1 Axes>"
      ]
     },
     "metadata": {},
     "output_type": "display_data"
    }
   ],
   "source": [
    "plt.figure(figsize = (10,5))\n",
    "df_news['Polarity'].hist(color = 'green')\n",
    "#data['smoker'].value_counts().plot(kind = 'bar', rot = 0)"
   ]
  },
  {
   "cell_type": "code",
   "execution_count": 761,
   "metadata": {},
   "outputs": [
    {
     "data": {
      "text/plain": [
       "<Axes: >"
      ]
     },
     "execution_count": 761,
     "metadata": {},
     "output_type": "execute_result"
    },
    {
     "data": {
      "image/png": "[encoded data removed]",
      "text/plain": [
       "<Figure size 1000x600 with 1 Axes>"
      ]
     },
     "metadata": {},
     "output_type": "display_data"
    }
   ],
   "source": [
    "plt.figure(figsize = (10,6))\n",
    "df_news['Subjectivity'].hist(color = 'pink')"
   ]
  },
  {
   "cell_type": "code",
   "execution_count": 762,
   "metadata": {},
   "outputs": [
    {
     "data": {
      "text/html": [
       "<div>\n",
       "<style scoped>\n",
       "    .dataframe tbody tr th:only-of-type {\n",
       "        vertical-align: middle;\n",
       "    }\n",
       "\n",
       "    .dataframe tbody tr th {\n",
       "        vertical-align: top;\n",
       "    }\n",
       "\n",
       "    .dataframe thead th {\n",
       "        text-align: right;\n",
       "    }\n",
       "</style>\n",
       "<table border=\"1\" class=\"dataframe\">\n",
       "  <thead>\n",
       "    <tr style=\"text-align: right;\">\n",
       "      <th></th>\n",
       "      <th>Date</th>\n",
       "      <th>headline_text</th>\n",
       "      <th>News</th>\n",
       "      <th>VADER score</th>\n",
       "      <th>sentiment</th>\n",
       "      <th>Subjectivity</th>\n",
       "      <th>Polarity</th>\n",
       "      <th>Negative</th>\n",
       "      <th>Neutral</th>\n",
       "      <th>Positive</th>\n",
       "    </tr>\n",
       "  </thead>\n",
       "  <tbody>\n",
       "    <tr>\n",
       "      <th>0</th>\n",
       "      <td>2001-01-02</td>\n",
       "      <td>Fissures in Hurriyat over Pak visit America's ...</td>\n",
       "      <td>fissures in hurriyat over pak visit america s ...</td>\n",
       "      <td>-0.9822</td>\n",
       "      <td>negative</td>\n",
       "      <td>0.282333</td>\n",
       "      <td>0.151333</td>\n",
       "      <td>0.125</td>\n",
       "      <td>0.806</td>\n",
       "      <td>0.069</td>\n",
       "    </tr>\n",
       "    <tr>\n",
       "      <th>1</th>\n",
       "      <td>2001-01-03</td>\n",
       "      <td>Powerless north India gropes in the dark Think...</td>\n",
       "      <td>powerless north india gropes in the dark think...</td>\n",
       "      <td>-0.2640</td>\n",
       "      <td>negative</td>\n",
       "      <td>0.407692</td>\n",
       "      <td>0.088462</td>\n",
       "      <td>0.122</td>\n",
       "      <td>0.766</td>\n",
       "      <td>0.111</td>\n",
       "    </tr>\n",
       "    <tr>\n",
       "      <th>2</th>\n",
       "      <td>2001-01-04</td>\n",
       "      <td>The string that pulled Stephen Hawking to Indi...</td>\n",
       "      <td>the string that pulled stephen hawking to indi...</td>\n",
       "      <td>0.9708</td>\n",
       "      <td>positive</td>\n",
       "      <td>0.444962</td>\n",
       "      <td>0.121856</td>\n",
       "      <td>0.097</td>\n",
       "      <td>0.787</td>\n",
       "      <td>0.117</td>\n",
       "    </tr>\n",
       "  </tbody>\n",
       "</table>\n",
       "</div>"
      ],
      "text/plain": [
       "        Date                                      headline_text  \\\n",
       "0 2001-01-02  Fissures in Hurriyat over Pak visit America's ...   \n",
       "1 2001-01-03  Powerless north India gropes in the dark Think...   \n",
       "2 2001-01-04  The string that pulled Stephen Hawking to Indi...   \n",
       "\n",
       "                                                News  VADER score sentiment  \\\n",
       "0  fissures in hurriyat over pak visit america s ...      -0.9822  negative   \n",
       "1  powerless north india gropes in the dark think...      -0.2640  negative   \n",
       "2  the string that pulled stephen hawking to indi...       0.9708  positive   \n",
       "\n",
       "   Subjectivity  Polarity  Negative  Neutral  Positive  \n",
       "0      0.282333  0.151333     0.125    0.806     0.069  \n",
       "1      0.407692  0.088462     0.122    0.766     0.111  \n",
       "2      0.444962  0.121856     0.097    0.787     0.117  "
      ]
     },
     "execution_count": 762,
     "metadata": {},
     "output_type": "execute_result"
    }
   ],
   "source": [
    "#Adding sentiment score to df_news\n",
    "sia = SentimentIntensityAnalyzer()\n",
    "\n",
    "#df_news['Compound'] = [sia.polarity_scores(v)['compound'] for v in df_news['headline_text]]\n",
    "df_news['Negative'] = [sia.polarity_scores(v)['neg'] for v in df_news['headline_text']]\n",
    "df_news['Neutral'] = [sia.polarity_scores(v)['neu'] for v in df_news['headline_text']]\n",
    "df_news['Positive'] = [sia.polarity_scores(v)['pos'] for v in df_news['headline_text']]\n",
    "df_news"
   ]
  },
  {
   "cell_type": "code",
   "execution_count": 763,
   "metadata": {},
   "outputs": [
    {
     "data": {
      "text/html": [
       "<div>\n",
       "<style scoped>\n",
       "    .dataframe tbody tr th:only-of-type {\n",
       "        vertical-align: middle;\n",
       "    }\n",
       "\n",
       "    .dataframe tbody tr th {\n",
       "        vertical-align: top;\n",
       "    }\n",
       "\n",
       "    .dataframe thead th {\n",
       "        text-align: right;\n",
       "    }\n",
       "</style>\n",
       "<table border=\"1\" class=\"dataframe\">\n",
       "  <thead>\n",
       "    <tr style=\"text-align: right;\">\n",
       "      <th></th>\n",
       "      <th>Date</th>\n",
       "      <th>Close</th>\n",
       "      <th>headline_text</th>\n",
       "      <th>News</th>\n",
       "      <th>VADER score</th>\n",
       "      <th>sentiment</th>\n",
       "      <th>Subjectivity</th>\n",
       "      <th>Polarity</th>\n",
       "      <th>Negative</th>\n",
       "      <th>Neutral</th>\n",
       "      <th>Positive</th>\n",
       "    </tr>\n",
       "  </thead>\n",
       "  <tbody>\n",
       "  </tbody>\n",
       "</table>\n",
       "</div>"
      ],
      "text/plain": [
       "Empty DataFrame\n",
       "Columns: [Date, Close, headline_text, News, VADER score, sentiment, Subjectivity, Polarity, Negative, Neutral, Positive]\n",
       "Index: []"
      ]
     },
     "execution_count": 763,
     "metadata": {},
     "output_type": "execute_result"
    }
   ],
   "source": [
    "df_merge = pd.merge(df, df_news, how='inner', on='Date')\n",
    "df_merge"
   ]
  },
  {
   "cell_type": "code",
   "execution_count": 764,
   "metadata": {},
   "outputs": [
    {
     "data": {
      "text/html": [
       "<div>\n",
       "<style scoped>\n",
       "    .dataframe tbody tr th:only-of-type {\n",
       "        vertical-align: middle;\n",
       "    }\n",
       "\n",
       "    .dataframe tbody tr th {\n",
       "        vertical-align: top;\n",
       "    }\n",
       "\n",
       "    .dataframe thead th {\n",
       "        text-align: right;\n",
       "    }\n",
       "</style>\n",
       "<table border=\"1\" class=\"dataframe\">\n",
       "  <thead>\n",
       "    <tr style=\"text-align: right;\">\n",
       "      <th></th>\n",
       "      <th>Date</th>\n",
       "      <th>Close</th>\n",
       "      <th>headline_text</th>\n",
       "      <th>News</th>\n",
       "      <th>VADER score</th>\n",
       "      <th>sentiment</th>\n",
       "      <th>Subjectivity</th>\n",
       "      <th>Polarity</th>\n",
       "      <th>Negative</th>\n",
       "      <th>Neutral</th>\n",
       "      <th>Positive</th>\n",
       "    </tr>\n",
       "  </thead>\n",
       "  <tbody>\n",
       "    <tr>\n",
       "      <th>0</th>\n",
       "      <td>2019-12-17</td>\n",
       "      <td>41352.171875</td>\n",
       "      <td>NaN</td>\n",
       "      <td>NaN</td>\n",
       "      <td>NaN</td>\n",
       "      <td>NaN</td>\n",
       "      <td>NaN</td>\n",
       "      <td>NaN</td>\n",
       "      <td>NaN</td>\n",
       "      <td>NaN</td>\n",
       "      <td>NaN</td>\n",
       "    </tr>\n",
       "    <tr>\n",
       "      <th>1</th>\n",
       "      <td>2019-12-18</td>\n",
       "      <td>41558.570313</td>\n",
       "      <td>NaN</td>\n",
       "      <td>NaN</td>\n",
       "      <td>NaN</td>\n",
       "      <td>NaN</td>\n",
       "      <td>NaN</td>\n",
       "      <td>NaN</td>\n",
       "      <td>NaN</td>\n",
       "      <td>NaN</td>\n",
       "      <td>NaN</td>\n",
       "    </tr>\n",
       "    <tr>\n",
       "      <th>2</th>\n",
       "      <td>2019-12-19</td>\n",
       "      <td>41673.921875</td>\n",
       "      <td>NaN</td>\n",
       "      <td>NaN</td>\n",
       "      <td>NaN</td>\n",
       "      <td>NaN</td>\n",
       "      <td>NaN</td>\n",
       "      <td>NaN</td>\n",
       "      <td>NaN</td>\n",
       "      <td>NaN</td>\n",
       "      <td>NaN</td>\n",
       "    </tr>\n",
       "    <tr>\n",
       "      <th>3</th>\n",
       "      <td>2019-12-20</td>\n",
       "      <td>41681.539063</td>\n",
       "      <td>NaN</td>\n",
       "      <td>NaN</td>\n",
       "      <td>NaN</td>\n",
       "      <td>NaN</td>\n",
       "      <td>NaN</td>\n",
       "      <td>NaN</td>\n",
       "      <td>NaN</td>\n",
       "      <td>NaN</td>\n",
       "      <td>NaN</td>\n",
       "    </tr>\n",
       "    <tr>\n",
       "      <th>4</th>\n",
       "      <td>2019-12-23</td>\n",
       "      <td>41642.660156</td>\n",
       "      <td>NaN</td>\n",
       "      <td>NaN</td>\n",
       "      <td>NaN</td>\n",
       "      <td>NaN</td>\n",
       "      <td>NaN</td>\n",
       "      <td>NaN</td>\n",
       "      <td>NaN</td>\n",
       "      <td>NaN</td>\n",
       "      <td>NaN</td>\n",
       "    </tr>\n",
       "    <tr>\n",
       "      <th>...</th>\n",
       "      <td>...</td>\n",
       "      <td>...</td>\n",
       "      <td>...</td>\n",
       "      <td>...</td>\n",
       "      <td>...</td>\n",
       "      <td>...</td>\n",
       "      <td>...</td>\n",
       "      <td>...</td>\n",
       "      <td>...</td>\n",
       "      <td>...</td>\n",
       "      <td>...</td>\n",
       "    </tr>\n",
       "    <tr>\n",
       "      <th>247</th>\n",
       "      <td>2020-12-11</td>\n",
       "      <td>46099.011719</td>\n",
       "      <td>NaN</td>\n",
       "      <td>NaN</td>\n",
       "      <td>NaN</td>\n",
       "      <td>NaN</td>\n",
       "      <td>NaN</td>\n",
       "      <td>NaN</td>\n",
       "      <td>NaN</td>\n",
       "      <td>NaN</td>\n",
       "      <td>NaN</td>\n",
       "    </tr>\n",
       "    <tr>\n",
       "      <th>248</th>\n",
       "      <td>2020-12-14</td>\n",
       "      <td>46253.460938</td>\n",
       "      <td>NaN</td>\n",
       "      <td>NaN</td>\n",
       "      <td>NaN</td>\n",
       "      <td>NaN</td>\n",
       "      <td>NaN</td>\n",
       "      <td>NaN</td>\n",
       "      <td>NaN</td>\n",
       "      <td>NaN</td>\n",
       "      <td>NaN</td>\n",
       "    </tr>\n",
       "    <tr>\n",
       "      <th>249</th>\n",
       "      <td>2020-12-15</td>\n",
       "      <td>46263.171875</td>\n",
       "      <td>NaN</td>\n",
       "      <td>NaN</td>\n",
       "      <td>NaN</td>\n",
       "      <td>NaN</td>\n",
       "      <td>NaN</td>\n",
       "      <td>NaN</td>\n",
       "      <td>NaN</td>\n",
       "      <td>NaN</td>\n",
       "      <td>NaN</td>\n",
       "    </tr>\n",
       "    <tr>\n",
       "      <th>250</th>\n",
       "      <td>2020-12-16</td>\n",
       "      <td>46666.460938</td>\n",
       "      <td>NaN</td>\n",
       "      <td>NaN</td>\n",
       "      <td>NaN</td>\n",
       "      <td>NaN</td>\n",
       "      <td>NaN</td>\n",
       "      <td>NaN</td>\n",
       "      <td>NaN</td>\n",
       "      <td>NaN</td>\n",
       "      <td>NaN</td>\n",
       "    </tr>\n",
       "    <tr>\n",
       "      <th>251</th>\n",
       "      <td>2020-12-17</td>\n",
       "      <td>46890.339844</td>\n",
       "      <td>NaN</td>\n",
       "      <td>NaN</td>\n",
       "      <td>NaN</td>\n",
       "      <td>NaN</td>\n",
       "      <td>NaN</td>\n",
       "      <td>NaN</td>\n",
       "      <td>NaN</td>\n",
       "      <td>NaN</td>\n",
       "      <td>NaN</td>\n",
       "    </tr>\n",
       "  </tbody>\n",
       "</table>\n",
       "<p>252 rows × 11 columns</p>\n",
       "</div>"
      ],
      "text/plain": [
       "          Date         Close headline_text News  VADER score sentiment  \\\n",
       "0   2019-12-17  41352.171875           NaN  NaN          NaN       NaN   \n",
       "1   2019-12-18  41558.570313           NaN  NaN          NaN       NaN   \n",
       "2   2019-12-19  41673.921875           NaN  NaN          NaN       NaN   \n",
       "3   2019-12-20  41681.539063           NaN  NaN          NaN       NaN   \n",
       "4   2019-12-23  41642.660156           NaN  NaN          NaN       NaN   \n",
       "..         ...           ...           ...  ...          ...       ...   \n",
       "247 2020-12-11  46099.011719           NaN  NaN          NaN       NaN   \n",
       "248 2020-12-14  46253.460938           NaN  NaN          NaN       NaN   \n",
       "249 2020-12-15  46263.171875           NaN  NaN          NaN       NaN   \n",
       "250 2020-12-16  46666.460938           NaN  NaN          NaN       NaN   \n",
       "251 2020-12-17  46890.339844           NaN  NaN          NaN       NaN   \n",
       "\n",
       "     Subjectivity  Polarity  Negative  Neutral  Positive  \n",
       "0             NaN       NaN       NaN      NaN       NaN  \n",
       "1             NaN       NaN       NaN      NaN       NaN  \n",
       "2             NaN       NaN       NaN      NaN       NaN  \n",
       "3             NaN       NaN       NaN      NaN       NaN  \n",
       "4             NaN       NaN       NaN      NaN       NaN  \n",
       "..            ...       ...       ...      ...       ...  \n",
       "247           NaN       NaN       NaN      NaN       NaN  \n",
       "248           NaN       NaN       NaN      NaN       NaN  \n",
       "249           NaN       NaN       NaN      NaN       NaN  \n",
       "250           NaN       NaN       NaN      NaN       NaN  \n",
       "251           NaN       NaN       NaN      NaN       NaN  \n",
       "\n",
       "[252 rows x 11 columns]"
      ]
     },
     "execution_count": 764,
     "metadata": {},
     "output_type": "execute_result"
    }
   ],
   "source": [
    "df_merge = pd.merge(df, df_news, how='left', on='Date')\n",
    "df_merge"
   ]
  },
  {
   "cell_type": "code",
   "execution_count": 765,
   "metadata": {},
   "outputs": [
    {
     "data": {
      "text/html": [
       "<div>\n",
       "<style scoped>\n",
       "    .dataframe tbody tr th:only-of-type {\n",
       "        vertical-align: middle;\n",
       "    }\n",
       "\n",
       "    .dataframe tbody tr th {\n",
       "        vertical-align: top;\n",
       "    }\n",
       "\n",
       "    .dataframe thead th {\n",
       "        text-align: right;\n",
       "    }\n",
       "</style>\n",
       "<table border=\"1\" class=\"dataframe\">\n",
       "  <thead>\n",
       "    <tr style=\"text-align: right;\">\n",
       "      <th></th>\n",
       "      <th>Close</th>\n",
       "      <th>Subjectivity</th>\n",
       "      <th>Polarity</th>\n",
       "    </tr>\n",
       "  </thead>\n",
       "  <tbody>\n",
       "    <tr>\n",
       "      <th>0</th>\n",
       "      <td>41352.171875</td>\n",
       "      <td>NaN</td>\n",
       "      <td>NaN</td>\n",
       "    </tr>\n",
       "    <tr>\n",
       "      <th>1</th>\n",
       "      <td>41558.570313</td>\n",
       "      <td>NaN</td>\n",
       "      <td>NaN</td>\n",
       "    </tr>\n",
       "    <tr>\n",
       "      <th>2</th>\n",
       "      <td>41673.921875</td>\n",
       "      <td>NaN</td>\n",
       "      <td>NaN</td>\n",
       "    </tr>\n",
       "    <tr>\n",
       "      <th>3</th>\n",
       "      <td>41681.539063</td>\n",
       "      <td>NaN</td>\n",
       "      <td>NaN</td>\n",
       "    </tr>\n",
       "    <tr>\n",
       "      <th>4</th>\n",
       "      <td>41642.660156</td>\n",
       "      <td>NaN</td>\n",
       "      <td>NaN</td>\n",
       "    </tr>\n",
       "    <tr>\n",
       "      <th>...</th>\n",
       "      <td>...</td>\n",
       "      <td>...</td>\n",
       "      <td>...</td>\n",
       "    </tr>\n",
       "    <tr>\n",
       "      <th>247</th>\n",
       "      <td>46099.011719</td>\n",
       "      <td>NaN</td>\n",
       "      <td>NaN</td>\n",
       "    </tr>\n",
       "    <tr>\n",
       "      <th>248</th>\n",
       "      <td>46253.460938</td>\n",
       "      <td>NaN</td>\n",
       "      <td>NaN</td>\n",
       "    </tr>\n",
       "    <tr>\n",
       "      <th>249</th>\n",
       "      <td>46263.171875</td>\n",
       "      <td>NaN</td>\n",
       "      <td>NaN</td>\n",
       "    </tr>\n",
       "    <tr>\n",
       "      <th>250</th>\n",
       "      <td>46666.460938</td>\n",
       "      <td>NaN</td>\n",
       "      <td>NaN</td>\n",
       "    </tr>\n",
       "    <tr>\n",
       "      <th>251</th>\n",
       "      <td>46890.339844</td>\n",
       "      <td>NaN</td>\n",
       "      <td>NaN</td>\n",
       "    </tr>\n",
       "  </tbody>\n",
       "</table>\n",
       "<p>252 rows × 3 columns</p>\n",
       "</div>"
      ],
      "text/plain": [
       "            Close  Subjectivity  Polarity\n",
       "0    41352.171875           NaN       NaN\n",
       "1    41558.570313           NaN       NaN\n",
       "2    41673.921875           NaN       NaN\n",
       "3    41681.539063           NaN       NaN\n",
       "4    41642.660156           NaN       NaN\n",
       "..            ...           ...       ...\n",
       "247  46099.011719           NaN       NaN\n",
       "248  46253.460938           NaN       NaN\n",
       "249  46263.171875           NaN       NaN\n",
       "250  46666.460938           NaN       NaN\n",
       "251  46890.339844           NaN       NaN\n",
       "\n",
       "[252 rows x 3 columns]"
      ]
     },
     "execution_count": 765,
     "metadata": {},
     "output_type": "execute_result"
    }
   ],
   "source": [
    "df = df_merge[['Close','Subjectivity', 'Polarity']]\n",
    "df   "
   ]
  },
  {
   "cell_type": "code",
   "execution_count": 766,
   "metadata": {},
   "outputs": [],
   "source": [
    "df_merge = df_merge.dropna()"
   ]
  },
  {
   "cell_type": "code",
   "execution_count": 767,
   "metadata": {},
   "outputs": [],
   "source": [
    "df_merge_filled_zero = df_merge.fillna(0)"
   ]
  },
  {
   "cell_type": "code",
   "execution_count": 768,
   "metadata": {},
   "outputs": [],
   "source": [
    "df_merge_filled_empty = df_merge.fillna('')"
   ]
  },
  {
   "cell_type": "code",
   "execution_count": 769,
   "metadata": {},
   "outputs": [],
   "source": [
    "df_merge_ffill = df_merge.ffill()"
   ]
  },
  {
   "cell_type": "code",
   "execution_count": 770,
   "metadata": {},
   "outputs": [],
   "source": [
    "df_merge_bfill = df_merge.bfill()"
   ]
  },
  {
   "cell_type": "code",
   "execution_count": 771,
   "metadata": {},
   "outputs": [
    {
     "name": "stdout",
     "output_type": "stream",
     "text": [
      "Original Merged DataFrame:\n",
      " Empty DataFrame\n",
      "Columns: [Date, Close, headline_text, News, VADER score, sentiment, Subjectivity, Polarity, Negative, Neutral, Positive]\n",
      "Index: []\n",
      "After Filling NaN Values with 0:\n",
      " Empty DataFrame\n",
      "Columns: [Date, Close, headline_text, News, VADER score, sentiment, Subjectivity, Polarity, Negative, Neutral, Positive]\n",
      "Index: []\n",
      "After Filling NaN Values with Empty String:\n",
      " Empty DataFrame\n",
      "Columns: [Date, Close, headline_text, News, VADER score, sentiment, Subjectivity, Polarity, Negative, Neutral, Positive]\n",
      "Index: []\n",
      "After Forward Filling NaN Values:\n",
      " Empty DataFrame\n",
      "Columns: [Date, Close, headline_text, News, VADER score, sentiment, Subjectivity, Polarity, Negative, Neutral, Positive]\n",
      "Index: []\n",
      "After Backward Filling NaN Values:\n",
      " Empty DataFrame\n",
      "Columns: [Date, Close, headline_text, News, VADER score, sentiment, Subjectivity, Polarity, Negative, Neutral, Positive]\n",
      "Index: []\n"
     ]
    }
   ],
   "source": [
    "print(\"Original Merged DataFrame:\\n\", df_merge)\n",
    "#print(\"After Dropping NaN Values:\\n\", df_merge_dropped)\n",
    "print(\"After Filling NaN Values with 0:\\n\", df_merge_filled_zero)\n",
    "print(\"After Filling NaN Values with Empty String:\\n\", df_merge_filled_empty)\n",
    "print(\"After Forward Filling NaN Values:\\n\", df_merge_ffill)\n",
    "print(\"After Backward Filling NaN Values:\\n\", df_merge_bfill)"
   ]
  },
  {
   "cell_type": "code",
   "execution_count": 772,
   "metadata": {},
   "outputs": [
    {
     "data": {
      "text/html": [
       "<div>\n",
       "<style scoped>\n",
       "    .dataframe tbody tr th:only-of-type {\n",
       "        vertical-align: middle;\n",
       "    }\n",
       "\n",
       "    .dataframe tbody tr th {\n",
       "        vertical-align: top;\n",
       "    }\n",
       "\n",
       "    .dataframe thead th {\n",
       "        text-align: right;\n",
       "    }\n",
       "</style>\n",
       "<table border=\"1\" class=\"dataframe\">\n",
       "  <thead>\n",
       "    <tr style=\"text-align: right;\">\n",
       "      <th></th>\n",
       "      <th>Close</th>\n",
       "      <th>sentiment</th>\n",
       "    </tr>\n",
       "  </thead>\n",
       "  <tbody>\n",
       "  </tbody>\n",
       "</table>\n",
       "</div>"
      ],
      "text/plain": [
       "Empty DataFrame\n",
       "Columns: [Close, sentiment]\n",
       "Index: []"
      ]
     },
     "execution_count": 772,
     "metadata": {},
     "output_type": "execute_result"
    }
   ],
   "source": [
    "df_news=df_merge[['Close','sentiment']]\n",
    "df_news"
   ]
  },
  {
   "cell_type": "code",
   "execution_count": 773,
   "metadata": {},
   "outputs": [
    {
     "data": {
      "text/html": [
       "<div>\n",
       "<style scoped>\n",
       "    .dataframe tbody tr th:only-of-type {\n",
       "        vertical-align: middle;\n",
       "    }\n",
       "\n",
       "    .dataframe tbody tr th {\n",
       "        vertical-align: top;\n",
       "    }\n",
       "\n",
       "    .dataframe thead th {\n",
       "        text-align: right;\n",
       "    }\n",
       "</style>\n",
       "<table border=\"1\" class=\"dataframe\">\n",
       "  <thead>\n",
       "    <tr style=\"text-align: right;\">\n",
       "      <th></th>\n",
       "      <th>Close</th>\n",
       "    </tr>\n",
       "    <tr>\n",
       "      <th>sentiment</th>\n",
       "      <th></th>\n",
       "    </tr>\n",
       "  </thead>\n",
       "  <tbody>\n",
       "  </tbody>\n",
       "</table>\n",
       "</div>"
      ],
      "text/plain": [
       "Empty DataFrame\n",
       "Columns: [Close]\n",
       "Index: []"
      ]
     },
     "execution_count": 773,
     "metadata": {},
     "output_type": "execute_result"
    }
   ],
   "source": [
    "df_news.groupby(['sentiment']).mean()"
   ]
  },
  {
   "cell_type": "code",
   "execution_count": null,
   "metadata": {},
   "outputs": [],
   "source": []
  }
 ],
 "metadata": {
  "anaconda-cloud": {},
  "kernelspec": {
   "display_name": "Python 3 (ipykernel)",
   "language": "python",
   "name": "python3"
  },
  "language_info": {
   "codemirror_mode": {
    "name": "ipython",
    "version": 3
   },
   "file_extension": ".py",
   "mimetype": "text/x-python",
   "name": "python",
   "nbconvert_exporter": "python",
   "pygments_lexer": "ipython3",
   "version": "3.11.4"
  }
 },
 "nbformat": 4,
 "nbformat_minor": 1
}
