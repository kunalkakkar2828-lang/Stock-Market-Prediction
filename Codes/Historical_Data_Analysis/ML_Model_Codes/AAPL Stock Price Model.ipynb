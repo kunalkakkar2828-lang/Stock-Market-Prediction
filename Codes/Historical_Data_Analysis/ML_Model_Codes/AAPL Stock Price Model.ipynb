{
 "cells": [
  {
   "cell_type": "markdown",
   "id": "dd3a7eb6",
   "metadata": {},
   "source": [
    "# Working on Apple Dataset for stock predictions"
   ]
  },
  {
   "cell_type": "markdown",
   "id": "994f7b34",
   "metadata": {},
   "source": [
    "<img src=\"Logos/Apple_Logo.png\" width=\"300\" height=\"200\">"
   ]
  },
  {
   "cell_type": "code",
   "execution_count": 3,
   "id": "64ee9653",
   "metadata": {},
   "outputs": [],
   "source": [
    "#loading essential modules for dataset \n",
    "import warnings\n",
    "warnings.filterwarnings('ignore')\n",
    "import numpy as np\n",
    "import pandas as pd\n",
    "import matplotlib.pyplot as plt"
   ]
  },
  {
   "cell_type": "code",
   "execution_count": 4,
   "id": "ebca751a",
   "metadata": {},
   "outputs": [
    {
     "name": "stdout",
     "output_type": "stream",
     "text": [
      "<class 'pandas.core.frame.DataFrame'>\n",
      "RangeIndex: 11053 entries, 0 to 11052\n",
      "Data columns (total 6 columns):\n",
      " #   Column  Non-Null Count  Dtype  \n",
      "---  ------  --------------  -----  \n",
      " 0   date    11053 non-null  object \n",
      " 1   open    11053 non-null  float64\n",
      " 2   high    11053 non-null  float64\n",
      " 3   low     11053 non-null  float64\n",
      " 4   close   11053 non-null  float64\n",
      " 5   volume  11053 non-null  int64  \n",
      "dtypes: float64(4), int64(1), object(1)\n",
      "memory usage: 518.2+ KB\n"
     ]
    }
   ],
   "source": [
    "apple = pd.read_csv(\"new dataset/Preprocessed_AAPL_Dataset.csv\")\n",
    "apple.info()"
   ]
  },
  {
   "cell_type": "code",
   "execution_count": 5,
   "id": "3254b091",
   "metadata": {},
   "outputs": [],
   "source": [
    "apple['date'] = pd.to_datetime(apple['date'])\n",
    "apple.set_index('date', inplace=True)"
   ]
  },
  {
   "cell_type": "code",
   "execution_count": 6,
   "id": "4c3e503b",
   "metadata": {},
   "outputs": [
    {
     "data": {
      "text/html": [
       "<div>\n",
       "<style scoped>\n",
       "    .dataframe tbody tr th:only-of-type {\n",
       "        vertical-align: middle;\n",
       "    }\n",
       "\n",
       "    .dataframe tbody tr th {\n",
       "        vertical-align: top;\n",
       "    }\n",
       "\n",
       "    .dataframe thead th {\n",
       "        text-align: right;\n",
       "    }\n",
       "</style>\n",
       "<table border=\"1\" class=\"dataframe\">\n",
       "  <thead>\n",
       "    <tr style=\"text-align: right;\">\n",
       "      <th></th>\n",
       "      <th>open</th>\n",
       "      <th>high</th>\n",
       "      <th>low</th>\n",
       "      <th>close</th>\n",
       "      <th>volume</th>\n",
       "    </tr>\n",
       "    <tr>\n",
       "      <th>date</th>\n",
       "      <th></th>\n",
       "      <th></th>\n",
       "      <th></th>\n",
       "      <th></th>\n",
       "      <th></th>\n",
       "    </tr>\n",
       "  </thead>\n",
       "  <tbody>\n",
       "    <tr>\n",
       "      <th>1982-04-16</th>\n",
       "      <td>0.0582</td>\n",
       "      <td>0.0587</td>\n",
       "      <td>0.0582</td>\n",
       "      <td>0.0582</td>\n",
       "      <td>104048000</td>\n",
       "    </tr>\n",
       "    <tr>\n",
       "      <th>2012-10-18</th>\n",
       "      <td>19.3705</td>\n",
       "      <td>19.4453</td>\n",
       "      <td>19.0801</td>\n",
       "      <td>19.1600</td>\n",
       "      <td>476624400</td>\n",
       "    </tr>\n",
       "    <tr>\n",
       "      <th>1992-11-16</th>\n",
       "      <td>0.4077</td>\n",
       "      <td>0.4185</td>\n",
       "      <td>0.4059</td>\n",
       "      <td>0.4159</td>\n",
       "      <td>67547200</td>\n",
       "    </tr>\n",
       "  </tbody>\n",
       "</table>\n",
       "</div>"
      ],
      "text/plain": [
       "               open     high      low    close     volume\n",
       "date                                                     \n",
       "1982-04-16   0.0582   0.0587   0.0582   0.0582  104048000\n",
       "2012-10-18  19.3705  19.4453  19.0801  19.1600  476624400\n",
       "1992-11-16   0.4077   0.4185   0.4059   0.4159   67547200"
      ]
     },
     "execution_count": 6,
     "metadata": {},
     "output_type": "execute_result"
    }
   ],
   "source": [
    "apple.sample(3)"
   ]
  },
  {
   "cell_type": "markdown",
   "id": "6a17c8cc",
   "metadata": {},
   "source": [
    "# Plotting Close Data "
   ]
  },
  {
   "cell_type": "code",
   "execution_count": 11,
   "id": "9bf56441",
   "metadata": {},
   "outputs": [
    {
     "data": {
      "image/png": "[encoded data removed]",
      "text/plain": [
       "<Figure size 1296x288 with 1 Axes>"
      ]
     },
     "metadata": {
      "needs_background": "light"
     },
     "output_type": "display_data"
    }
   ],
   "source": [
    "plt.figure(figsize=(18,4))\n",
    "plt.title(\"Closing By Year\")\n",
    "plt.xlabel('Closing')\n",
    "plt.ylabel('Date')\n",
    "plt.plot(apple['close'])\n",
    "plt.show()"
   ]
  },
  {
   "cell_type": "markdown",
   "id": "a799e6c0",
   "metadata": {},
   "source": [
    "# Train-Test Split the data"
   ]
  },
  {
   "cell_type": "code",
   "execution_count": 6,
   "id": "86c50a9a",
   "metadata": {},
   "outputs": [
    {
     "name": "stdout",
     "output_type": "stream",
     "text": [
      "(8842, 4)\n",
      "(2211, 4)\n",
      "(8842,)\n",
      "(2211,)\n"
     ]
    }
   ],
   "source": [
    "from sklearn.model_selection import train_test_split\n",
    "features = ['open','high','low','volume']\n",
    "x = apple[features]\n",
    "y = apple['close']\n",
    "xtrain,xtest,ytrain,ytest = train_test_split(x,y,test_size=0.2,shuffle=False)\n",
    "\n",
    "print(xtrain.shape)\n",
    "print(xtest.shape)\n",
    "print(ytrain.shape)\n",
    "print(ytest.shape)"
   ]
  },
  {
   "cell_type": "markdown",
   "id": "68860fa4",
   "metadata": {},
   "source": [
    "# Machine Learning on Apple dataset"
   ]
  },
  {
   "cell_type": "markdown",
   "id": "a6717ef1",
   "metadata": {},
   "source": [
    "## 1) Linear Regression"
   ]
  },
  {
   "cell_type": "markdown",
   "id": "021d7113",
   "metadata": {},
   "source": [
    "\n",
    "**Linear Regression** is a fundamental statistical method used to model the relationship between a dependent variable (often called the target or response variable) and one or more independent variables (also known as predictors or features). The main objective is to find the best-fitting linear relationship that can predict the dependent variable based on the independent variables.\n",
    "\n",
    "### Simple Linear Regression\n",
    "\n",
    "In its simplest form, **Simple Linear Regression** involves a single independent variable and is represented by the following equation:\n",
    "\n",
    "$$\n",
    "y = \\beta_0 + \\beta_1 x + \\epsilon\n",
    "$$\n",
    "\n",
    "Where:\n",
    "- $y$ = dependent variable (response)\n",
    "- $x$ = independent variable (predictor)\n",
    "- $\\beta_0$ = y-intercept (the predicted value of $y$ when $x = 0$)\n",
    "- $\\beta_1$ = slope of the line (the change in $y$ for a one-unit change in $x$)\n",
    "- $\\epsilon$ = error term (captures the variation in $y$ not explained by the linear relationship)\n",
    "\n",
    "### Multiple Linear Regression\n",
    "\n",
    "In cases where there are multiple independent variables, the formula extends to:\n",
    "\n",
    "$$\n",
    "y = \\beta_0 + \\beta_1 x_1 + \\beta_2 x_2 + \\ldots + \\beta_n x_n + \\epsilon\n",
    "$$\n",
    "\n",
    "Where:\n",
    "- $y$ = dependent variable\n",
    "- $x_1, x_2, \\ldots, x_n$ = independent variables\n",
    "- $\\beta_0$ = y-intercept\n",
    "- $\\beta_1, \\beta_2, \\ldots, \\beta_n$ = coefficients for each independent variable\n",
    "- $\\epsilon$ = error term\n",
    "\n",
    "### Objective\n",
    "\n",
    "The primary goal in linear regression is to minimize the difference between the observed values and the values predicted by the linear model. This is typically done using the **Ordinary Least Squares (OLS)** method, which minimizes the sum of the squared residuals (the differences between the observed and predicted values):\n",
    "\n",
    "$$\n",
    "\\text{Minimize} \\quad S = \\sum_{i=1}^{n} (y_i - \\hat{y}_i)^2\n",
    "$$\n",
    "\n",
    "Where:\n",
    "- $S$ = sum of squared errors\n",
    "- $y_i$ = observed values\n",
    "- $\\hat{y}_i$ = predicted values from the model\n",
    "\n",
    "### Assumptions of Linear Regression\n",
    "\n",
    "Linear regression relies on several key assumptions:\n",
    "1. **Linearity**: The relationship between the independent and dependent variable is linear.\n",
    "2. **Independence**: The residuals (errors) are independent.\n",
    "3. **Homoscedasticity**: Constant variance of the residuals.\n",
    "4. **Normality**: The residuals are normally distributed (especially important for inference).\n",
    "\n",
    "### Applications\n",
    "\n",
    "Linear regression is widely used in various fields such as economics, biology, engineering, and social sciences for:\n",
    "- Predictive modeling\n",
    "- Trend analysis\n",
    "- Risk assessment\n",
    "- Understanding relationships between variables\n"
   ]
  },
  {
   "cell_type": "markdown",
   "id": "dda10546",
   "metadata": {},
   "source": [
    "## Code "
   ]
  },
  {
   "cell_type": "code",
   "execution_count": 13,
   "id": "188bda3a",
   "metadata": {},
   "outputs": [
    {
     "name": "stdout",
     "output_type": "stream",
     "text": [
      "R2 Score of Linear Regression : 0.9998629224782566\n"
     ]
    }
   ],
   "source": [
    "from sklearn.linear_model import LinearRegression\n",
    "modellr = LinearRegression()\n",
    "modellr.fit(xtrain,ytrain)\n",
    "ypred = modellr.predict(xtest)\n",
    "from sklearn.metrics import r2_score\n",
    "r2_0 = r2_score(ytest,ypred)\n",
    "print(f\"R2 Score of Linear Regression : {r2_0}\")"
   ]
  },
  {
   "cell_type": "markdown",
   "id": "58f93540",
   "metadata": {},
   "source": [
    "## Plotting ML actual and prediction"
   ]
  },
  {
   "cell_type": "code",
   "execution_count": 14,
   "id": "3d9b8ed9",
   "metadata": {},
   "outputs": [
    {
     "data": {
      "image/png": "[encoded data removed]",
      "text/plain": [
       "<Figure size 1296x432 with 1 Axes>"
      ]
     },
     "metadata": {
      "needs_background": "light"
     },
     "output_type": "display_data"
    }
   ],
   "source": [
    "y_pred = np.squeeze(np.array(ypred))\n",
    "y_test = np.array(ytest)\n",
    "plt.figure(figsize=(18,6))\n",
    "plt.plot(np.arange(len(y_test)), y_test, label='Actual Price', color='blue')\n",
    "plt.plot(np.arange(len(y_pred)), y_pred, label='Predicted Price', color='red', linestyle='--')\n",
    "plt.legend()\n",
    "plt.xlabel('Index')\n",
    "plt.ylabel('Stock Price')\n",
    "plt.title('Actual vs Predicted Stock Price')\n",
    "plt.show()"
   ]
  },
  {
   "cell_type": "markdown",
   "id": "f6d0dca7",
   "metadata": {},
   "source": [
    "## 2) Ridge Regression"
   ]
  },
  {
   "cell_type": "markdown",
   "id": "6e79116c",
   "metadata": {},
   "source": [
    "**Ridge Regression** is a type of linear regression that includes a regularization term in the loss function to prevent overfitting and improve model generalization. This technique is particularly useful when dealing with multicollinearity, where independent variables are highly correlated, leading to unstable estimates of coefficients.\n",
    "\n",
    "### Mathematical Formulation\n",
    "\n",
    "The Ridge Regression objective is to minimize the following loss function:\n",
    "\n",
    "$$\n",
    "L(\\beta) = \\sum_{i=1}^{n} (y_i - \\hat{y}_i)^2 + \\lambda \\sum_{j=1}^{p} \\beta_j^2\n",
    "$$\n",
    "\n",
    "Where:\n",
    "- $L(\\beta)$ = loss function\n",
    "- $y_i$ = observed values\n",
    "- $\\hat{y}_i = X \\beta$ = predicted values from the linear model\n",
    "- $X$ = matrix of input features\n",
    "- $\\beta$ = vector of coefficients\n",
    "- $\\lambda$ = regularization parameter (controls the strength of the penalty)\n",
    "- $p$ = number of predictors\n",
    "\n",
    "### Regularization Effect\n",
    "\n",
    "The term $\\lambda \\sum_{j=1}^{p} \\beta_j^2$ is known as the **L2 penalty**. It penalizes large coefficients, effectively shrinking them toward zero. This helps to reduce model complexity and multicollinearity, leading to more reliable predictions.\n",
    "\n",
    "### Applications\n",
    "\n",
    "Ridge Regression is commonly used in scenarios where:\n",
    "- There are many predictors, some of which may be correlated.\n",
    "- The goal is to enhance the model's predictive accuracy without significantly increasing the bias.\n"
   ]
  },
  {
   "cell_type": "code",
   "execution_count": 20,
   "id": "48e72c75",
   "metadata": {},
   "outputs": [
    {
     "name": "stdout",
     "output_type": "stream",
     "text": [
      "R2 Score of Ridge Regression (L2 regularization) = 0.9998630076573156\n"
     ]
    }
   ],
   "source": [
    "from sklearn.linear_model import Ridge\n",
    "ridge_reg = Ridge(alpha=1.0)\n",
    "ridge_reg.fit(xtrain, ytrain)\n",
    "ypred1 = ridge_reg.predict(xtest)\n",
    "\n",
    "r2_1 = r2_score(ytest,ypred1)\n",
    "print(f\"R2 Score of Ridge Regression (L2 regularization) = {r2_1}\")"
   ]
  },
  {
   "cell_type": "markdown",
   "id": "94636f45",
   "metadata": {},
   "source": [
    "## 3) Lasso Regression"
   ]
  },
  {
   "cell_type": "markdown",
   "id": "3da674b8",
   "metadata": {},
   "source": [
    "### Lasso Regression\n",
    "\n",
    "**Lasso Regression** (Least Absolute Shrinkage and Selection Operator) is a linear regression technique that incorporates a regularization term to prevent overfitting and enhance model interpretability. Unlike Ridge Regression, Lasso can reduce some coefficients to zero, effectively performing variable selection.\n",
    "\n",
    "### Mathematical Formulation\n",
    "\n",
    "The objective of Lasso Regression is to minimize the following cost function:\n",
    "\n",
    "$$\n",
    "J(\\beta) = \\sum_{i=1}^{n} (y_i - \\hat{y}_i)^2 + \\lambda \\sum_{j=1}^{p} |\\beta_j|\n",
    "$$\n",
    "\n",
    "Where:\n",
    "- $( J(\\beta) )$ = cost function\n",
    "- $( y_i )$ = observed value for the $( i^{th} $) observation\n",
    "- $( \\hat{y}_i )$ = predicted value for the $( i^{th} $) observation\n",
    "- $( \\beta_j )$ = coefficient for the $( j^{th} $) feature\n",
    "- $( n )$ = number of observations\n",
    "- $( p )$ = number of features\n",
    "- $( \\lambda )$ = regularization parameter (the lasso parameter)\n",
    "\n",
    "### Key Features of Lasso Regression\n",
    "\n",
    "1. **Regularization**: The term \\( \\lambda \\sum_{j=1}^{p} |\\beta_j| \\) adds a penalty to the loss function, which discourages large coefficients and can lead to zeroing out less important features.\n",
    "\n",
    "2. **Feature Selection**: By shrinking some coefficients to exactly zero, Lasso Regression can effectively select a simpler model that is easier to interpret and less prone to overfitting.\n",
    "\n",
    "3. **Solution**: The coefficients can be estimated using optimization techniques, as there is no closed-form solution like that in Ridge Regression. Lasso regression typically uses coordinate descent or other iterative optimization algorithms.\n",
    "\n",
    "### Applications\n",
    "\n",
    "Lasso Regression is commonly used in:\n",
    "- High-dimensional datasets where feature selection is desired\n",
    "- Situations with many irrelevant features\n",
    "- Scenarios requiring simpler and interpretable models\n",
    "\n",
    "In summary, Lasso Regression offers a powerful approach to linear regression that not only minimizes prediction error but also simplifies the model by eliminating unnecessary predictors, making it particularly useful in many practical applications.\n"
   ]
  },
  {
   "cell_type": "code",
   "execution_count": 16,
   "id": "7498211b",
   "metadata": {},
   "outputs": [
    {
     "name": "stdout",
     "output_type": "stream",
     "text": [
      "R2 Score of Lasso Regression (L1 regularization) = 0.9993577928176817\n"
     ]
    }
   ],
   "source": [
    "from sklearn.linear_model import Lasso\n",
    "lasso_reg = Lasso(alpha=0.1)\n",
    "lasso_reg.fit(xtrain, ytrain)\n",
    "ypred2 = lasso_reg.predict(xtest)\n",
    "r2_2 = r2_score(ytest,ypred2)\n",
    "print(f\"R2 Score of Lasso Regression (L1 regularization) = {r2_2}\")"
   ]
  },
  {
   "cell_type": "markdown",
   "id": "dc367b19",
   "metadata": {},
   "source": [
    "## 4) Elastic Net Regression"
   ]
  },
  {
   "cell_type": "markdown",
   "id": "7afb1981",
   "metadata": {},
   "source": [
    "### Elastic Net Regression\n",
    "\n",
    "**Elastic Net Regression** is a linear regression technique that combines the penalties of both Lasso and Ridge regression methods. It is particularly useful when dealing with high-dimensional datasets where multicollinearity exists among the features and when the number of predictors is larger than the number of observations.\n",
    "\n",
    "### Mathematical Formulation\n",
    "\n",
    "The objective of Elastic Net Regression is to minimize the following cost function:\n",
    "\n",
    "$$\n",
    "J(\\beta) = \\sum_{i=1}^{n} (y_i - \\hat{y}_i)^2 + \\lambda_1 \\sum_{j=1}^{p} |\\beta_j| + \\lambda_2 \\sum_{j=1}^{p} \\beta_j^2\n",
    "$$\n",
    "\n",
    "Where:\n",
    "- $( J(\\beta) $) = cost function\n",
    "- $( y_i $) = observed value for the $( i^{th} $) observation\n",
    "- $( \\hat{y}_i $) = predicted value for the $( i^{th} $) observation\n",
    "- $( \\beta_j $) = coefficient for the $( j^{th} $) feature\n",
    "- $( n $) = number of observations\n",
    "- $( p $) = number of features\n",
    "- $( \\lambda_1 $) = regularization parameter for Lasso (L1 penalty)\n",
    "- $( \\lambda_2 $) = regularization parameter for Ridge (L2 penalty)\n",
    "\n",
    "### Key Features of Elastic Net Regression\n",
    "\n",
    "1. **Combination of Penalties**: The cost function includes both L1 and L2 penalties, allowing Elastic Net to perform both variable selection (like Lasso) and regularization (like Ridge).\n",
    "\n",
    "2. **Handling Multicollinearity**: Elastic Net is particularly effective when features are correlated, as it can select groups of correlated predictors\n"
   ]
  },
  {
   "cell_type": "code",
   "execution_count": 17,
   "id": "8e55bed9",
   "metadata": {},
   "outputs": [
    {
     "name": "stdout",
     "output_type": "stream",
     "text": [
      "R2 Score of Elastic Net Regression = 0.9996487306800625\n"
     ]
    }
   ],
   "source": [
    "from sklearn.linear_model import ElasticNet\n",
    "elastic_net = ElasticNet(alpha=0.1, l1_ratio=0.5)\n",
    "elastic_net.fit(xtrain, ytrain)\n",
    "ypred3 = elastic_net.predict(xtest)\n",
    "r2_3 = r2_score(ytest,ypred3)\n",
    "print(f\"R2 Score of Elastic Net Regression = {r2_3}\")"
   ]
  },
  {
   "cell_type": "markdown",
   "id": "97af66b3",
   "metadata": {},
   "source": [
    "## ~~5) SVR~~"
   ]
  },
  {
   "cell_type": "code",
   "execution_count": null,
   "id": "1a94a588",
   "metadata": {},
   "outputs": [],
   "source": [
    "from sklearn.svm import SVR\n",
    "svr = SVR(kernel='linear')\n",
    "svr.fit(xtrain, ytrain)\n",
    "ypred5 = svr.predict(xtest)\n",
    "r2_5 = r2_score(ytest,ypred5)\n",
    "print(f\"R2 Score of Support Vector Regression (SVR) = {r2_5}\")"
   ]
  },
  {
   "cell_type": "markdown",
   "id": "bac96fad",
   "metadata": {},
   "source": [
    "*now we know that that main culprit is SVR which i have to run on 11000s rows of data !! from now i'm not using this.* 💀"
   ]
  },
  {
   "cell_type": "markdown",
   "id": "99f7b040",
   "metadata": {},
   "source": [
    "## 6) KNN Regressor"
   ]
  },
  {
   "cell_type": "code",
   "execution_count": 8,
   "id": "6cfbf7c6",
   "metadata": {},
   "outputs": [
    {
     "name": "stdout",
     "output_type": "stream",
     "text": [
      "R2 Score of KNN Regression = -2.456828967829014\n"
     ]
    }
   ],
   "source": [
    "from sklearn.neighbors import KNeighborsRegressor\n",
    "from sklearn.metrics import r2_score\n",
    "knn_reg = KNeighborsRegressor(n_neighbors=5)\n",
    "knn_reg.fit(xtrain,ytrain)\n",
    "ypred9 = knn_reg.predict(xtest)\n",
    "r2_9 = r2_score(ytest,ypred9)\n",
    "print(f\"R2 Score of KNN Regression = {r2_9}\")"
   ]
  },
  {
   "cell_type": "markdown",
   "id": "0de347be",
   "metadata": {},
   "source": [
    "### we see that knn have negative R2 score 😓"
   ]
  },
  {
   "cell_type": "markdown",
   "id": "f8b9476e",
   "metadata": {},
   "source": [
    "# In Conclusion\n",
    "\n",
    "## we have to use only these Regression model \n",
    "\n",
    "- Linear Regression\n",
    "- Ridge Regression \n",
    "- Lasso Regression \n",
    "- Elastic Net Regression \n",
    " \n",
    " ### which gives R2 Score :- \n",
    " \n",
    " \n",
    " |Regression Model     | R2 Score         |\n",
    " |---------------------|------------------|\n",
    " |1) Linear Regression |0.9998629224782566|\n",
    " |2) Ridge regression  |0.9998630076573156|\n",
    " |3) Lasso Regression  |0.9993577928176817|\n",
    " |4) Elastic Regression|0.9996487306800625|"
   ]
  },
  {
   "cell_type": "markdown",
   "id": "7daa20aa",
   "metadata": {},
   "source": [
    "# Ensemble Model "
   ]
  },
  {
   "cell_type": "markdown",
   "id": "16e2fed1",
   "metadata": {},
   "source": [
    "An ensemble model combines multiple machine learning models to produce a better prediction by leveraging the strengths of each individual model. The core idea is that different models may capture different aspects of the data, and combining them can reduce errors and improve performance. Ensemble methods are popular because they often yield higher accuracy and robustness than individual models.\n",
    "\n",
    "### Voting Regressor\n",
    "\n",
    "The Voting Regressor is a type of ensemble method specifically for regression tasks. In a Voting Regressor, several base regression models (e.g., Linear Regression, Decision Trees, Random Forest, etc.) are trained independently on the same data, and their predictions are combined to form the final output. There are two main ways to combine predictions in a Voting Regressor:\n",
    "\n",
    "1. **Averaging (Simple or Mean)**: The final prediction is the average of the individual predictions.\n",
    "2. **Weighted Averaging**: Each model’s prediction is weighted based on its importance or accuracy, and the final prediction is a weighted average.\n",
    "\n",
    "### Why Use Voting Regressor in Regression?\n",
    "\n",
    "1. **Improved Performance**: Voting Regressor combines the strengths of multiple models, often resulting in more accurate predictions by compensating for the weaknesses of individual models.\n",
    "\n",
    "2. **Reduced Overfitting**: By blending predictions from different models, ensemble methods like Voting Regressor can generalize better to new data and reduce the risk of overfitting.\n",
    "\n",
    "3. **Model Stability**: Voting makes the model less sensitive to specific biases or errors from individual models, especially when they have different characteristics (e.g., tree-based and linear models).\n",
    "\n",
    "4. **Flexibility**: You can use a variety of base models, including linear and non-linear models, to handle complex data more effectively.\n",
    "\n",
    "In summary, using a Voting Regressor allows us to harness the combined power of different models, leading to more accurate, stable, and robust predictions in regression tasks."
   ]
  },
  {
   "cell_type": "code",
   "execution_count": 9,
   "id": "6f5c0bd9",
   "metadata": {},
   "outputs": [
    {
     "name": "stdout",
     "output_type": "stream",
     "text": [
      "R2 Score of a voting model :0.9997769554424071\n"
     ]
    }
   ],
   "source": [
    "# loading all model once again \n",
    "from sklearn.linear_model import LinearRegression\n",
    "from sklearn.linear_model import Ridge\n",
    "from sklearn.linear_model import Lasso\n",
    "from sklearn.linear_model import ElasticNet\n",
    "from sklearn.metrics import r2_score\n",
    "#Making model \n",
    "linear_reg = LinearRegression()\n",
    "ridge_reg = Ridge(alpha=1.0)\n",
    "lasso_reg = Lasso(alpha=0.1)\n",
    "elastic_net = ElasticNet(alpha=0.1, l1_ratio=0.5)\n",
    "\n",
    "#loading voting regressor modules \n",
    "from sklearn.ensemble import VotingRegressor\n",
    "\n",
    "#creating voting ensemble model \n",
    "votingmodel = VotingRegressor([\n",
    "    ('lr',linear_reg),\n",
    "    ('rr',ridge_reg),\n",
    "    ('lar',lasso_reg),\n",
    "    ('enr',elastic_net)\n",
    "])\n",
    "\n",
    "#train voting model \n",
    "votingmodel.fit(xtrain,ytrain)\n",
    "\n",
    "yprediction = votingmodel.predict(xtest)\n",
    "\n",
    "R2_score = r2_score(ytest,yprediction)\n",
    "print(f\"R2 Score of a voting model :{R2_score}\")"
   ]
  },
  {
   "cell_type": "markdown",
   "id": "2209577c",
   "metadata": {},
   "source": [
    "### As We see ensemble model gives R2 Score of *0.9997769* which is good for regression "
   ]
  },
  {
   "cell_type": "markdown",
   "id": "800a6c2a",
   "metadata": {},
   "source": [
    "# Plotting voting regressor on testing data "
   ]
  },
  {
   "cell_type": "code",
   "execution_count": 14,
   "id": "82ec522a",
   "metadata": {},
   "outputs": [
    {
     "data": {
      "image/png": "[encoded data removed]",
      "text/plain": [
       "<Figure size 1296x432 with 1 Axes>"
      ]
     },
     "metadata": {
      "needs_background": "light"
     },
     "output_type": "display_data"
    }
   ],
   "source": [
    "# Assuming y_test is a pandas Series, y_pred is a numpy array or multi-dimensional structure\n",
    "import matplotlib.pyplot as plt\n",
    "# Convert y_pred to a 1D numpy array (if it's not already)\n",
    "y_pred = np.squeeze(np.array(yprediction))  # Flatten if it's multi-dimensional\n",
    "\n",
    "# Ensure y_test is aligned (if y_test is a pandas Series)\n",
    "y_test = np.array(ytest)  # You can convert it to a numpy array if needed\n",
    "plt.figure(figsize=(18,6))\n",
    "# Plot the actual vs predicted values\n",
    "plt.plot(np.arange(len(ytest)), ytest, label='Actual Price', color='blue')\n",
    "plt.plot(np.arange(len(y_pred)), y_pred, label='Predicted Price', color='red', linestyle='--')\n",
    "\n",
    "# Add labels and title\n",
    "plt.xlabel('Index',fontsize=18)\n",
    "plt.ylabel('Stock Price',fontsize=18)\n",
    "plt.title('Actual vs Predicted Stock Price',fontsize=23)\n",
    "plt.legend()\n",
    "\n",
    "# Display the plot\n",
    "plt.show()"
   ]
  },
  {
   "cell_type": "markdown",
   "id": "e9292b03",
   "metadata": {},
   "source": [
    "# Save Model with pickle "
   ]
  },
  {
   "cell_type": "code",
   "execution_count": 21,
   "id": "ec0fe322",
   "metadata": {},
   "outputs": [
    {
     "data": {
      "text/plain": [
       "array([ 22.91519593,  22.28783912,  22.19241586, ..., 234.7556048 ,\n",
       "       230.65046901, 231.91252223])"
      ]
     },
     "execution_count": 21,
     "metadata": {},
     "output_type": "execute_result"
    }
   ],
   "source": [
    "import pickle\n",
    "# Specify the filename\n",
    "filename = \"D:/7th semester/Mini Project/Project number 2/Models/Apple_ensemble_model.pkl\"\n",
    "\n",
    "# Open the file in write-binary mode and save the model\n",
    "with open(filename, 'wb') as file:\n",
    "    pickle.dump(votingmodel, file)\n",
    "    \n",
    "# Load the model\n",
    "with open(filename, 'rb') as file:\n",
    "    loaded_model = pickle.load(file)\n",
    "\n",
    "# You can now use loaded_model to make predictions\n",
    "predictions = loaded_model.predict(xtest)\n",
    "predictions"
   ]
  },
  {
   "cell_type": "code",
   "execution_count": 23,
   "id": "30255c39",
   "metadata": {},
   "outputs": [
    {
     "name": "stdout",
     "output_type": "stream",
     "text": [
      "R2 Score of pickle ensemble model : 0.9997769554424071\n"
     ]
    }
   ],
   "source": [
    "#r2 score \n",
    "r2scoree = r2_score(ytest,predictions)\n",
    "print(f\"R2 Score of pickle ensemble model : {r2scoree}\")"
   ]
  },
  {
   "cell_type": "markdown",
   "id": "3437a86d",
   "metadata": {},
   "source": [
    "# Save Model with joblib"
   ]
  },
  {
   "cell_type": "code",
   "execution_count": 25,
   "id": "f2d8e9ff",
   "metadata": {},
   "outputs": [
    {
     "data": {
      "text/plain": [
       "array([ 22.91519593,  22.28783912,  22.19241586, ..., 234.7556048 ,\n",
       "       230.65046901, 231.91252223])"
      ]
     },
     "execution_count": 25,
     "metadata": {},
     "output_type": "execute_result"
    }
   ],
   "source": [
    "import joblib\n",
    "\n",
    "# Save the model to a file\n",
    "joblib.dump(votingmodel, 'D:/7th semester/Mini Project/Project number 2/Models/Apple_ensemble_model.joblib')\n",
    "# Load the model from the file\n",
    "loaded_model = joblib.load('D:/7th semester/Mini Project/Project number 2/Models/Apple_ensemble_model.joblib')\n",
    "\n",
    "# Now you can use loaded_model to make predictions\n",
    "predictions = loaded_model.predict(xtest)\n",
    "predictions"
   ]
  },
  {
   "cell_type": "markdown",
   "id": "fb121bad",
   "metadata": {},
   "source": [
    "# Testing on random data "
   ]
  },
  {
   "cell_type": "code",
   "execution_count": 15,
   "id": "ccada5bf",
   "metadata": {},
   "outputs": [
    {
     "data": {
      "text/html": [
       "<div>\n",
       "<style scoped>\n",
       "    .dataframe tbody tr th:only-of-type {\n",
       "        vertical-align: middle;\n",
       "    }\n",
       "\n",
       "    .dataframe tbody tr th {\n",
       "        vertical-align: top;\n",
       "    }\n",
       "\n",
       "    .dataframe thead th {\n",
       "        text-align: right;\n",
       "    }\n",
       "</style>\n",
       "<table border=\"1\" class=\"dataframe\">\n",
       "  <thead>\n",
       "    <tr style=\"text-align: right;\">\n",
       "      <th></th>\n",
       "      <th>open</th>\n",
       "      <th>high</th>\n",
       "      <th>low</th>\n",
       "      <th>close</th>\n",
       "      <th>volume</th>\n",
       "    </tr>\n",
       "    <tr>\n",
       "      <th>date</th>\n",
       "      <th></th>\n",
       "      <th></th>\n",
       "      <th></th>\n",
       "      <th></th>\n",
       "      <th></th>\n",
       "    </tr>\n",
       "  </thead>\n",
       "  <tbody>\n",
       "    <tr>\n",
       "      <th>2024-10-15</th>\n",
       "      <td>233.61</td>\n",
       "      <td>237.49</td>\n",
       "      <td>232.37</td>\n",
       "      <td>233.85</td>\n",
       "      <td>62157159</td>\n",
       "    </tr>\n",
       "    <tr>\n",
       "      <th>2024-10-16</th>\n",
       "      <td>231.60</td>\n",
       "      <td>232.12</td>\n",
       "      <td>229.84</td>\n",
       "      <td>231.78</td>\n",
       "      <td>33782884</td>\n",
       "    </tr>\n",
       "    <tr>\n",
       "      <th>2024-10-17</th>\n",
       "      <td>233.43</td>\n",
       "      <td>233.85</td>\n",
       "      <td>230.52</td>\n",
       "      <td>232.15</td>\n",
       "      <td>32290873</td>\n",
       "    </tr>\n",
       "  </tbody>\n",
       "</table>\n",
       "</div>"
      ],
      "text/plain": [
       "              open    high     low   close    volume\n",
       "date                                                \n",
       "2024-10-15  233.61  237.49  232.37  233.85  62157159\n",
       "2024-10-16  231.60  232.12  229.84  231.78  33782884\n",
       "2024-10-17  233.43  233.85  230.52  232.15  32290873"
      ]
     },
     "execution_count": 15,
     "metadata": {},
     "output_type": "execute_result"
    }
   ],
   "source": [
    "apple.tail(3)"
   ]
  },
  {
   "cell_type": "code",
   "execution_count": 16,
   "id": "9e828744",
   "metadata": {},
   "outputs": [
    {
     "name": "stdout",
     "output_type": "stream",
     "text": [
      "234.7556047976181\n"
     ]
    }
   ],
   "source": [
    "import pickle \n",
    "filename = \"Models/Apple_ensemble_model.pkl\"\n",
    "with open(filename, 'rb') as file:\n",
    "    loaded_model = pickle.load(file)\n",
    "    \n",
    "sample = np.array([233.61, 237.49, 232.37, 62157159])\n",
    "\n",
    "sample_reshaped = pd.DataFrame([sample], columns=['open','high','low','volume'])\n",
    "\n",
    "#prediction = loaded_model.predict(sample_reshaped)\n",
    "prediction = loaded_model.predict(sample_reshaped)\n",
    "print(prediction[0])\n"
   ]
  },
  {
   "cell_type": "markdown",
   "id": "e52f5795",
   "metadata": {},
   "source": [
    "---\n",
    "*Note: This document provides a brief overview of key concepts in regression techniques, including Ridge, Lasso, and Elastic Net. For a deeper understanding, consult additional resources or textbooks on machine learning and statistics.*\n",
    "\n",
    "- [^1]: All formulas were formatted in LaTeX to ensure clarity and readability.\n",
    "- [^2]: References to tuning and optimization methods are based on common practices in scikit-learn and related Python libraries.\n",
    "\n",
    "---\n",
    "\n",
    "---\n",
    "\n",
    "*End of Document*  \n",
    "\n",
    "---\n",
    "\n",
    "- [^1]: Created by **Geetanshu Dev Meshram** 🧑🏻‍💻, *2/october/2024*.  \n",
    "- [^2]: Sources and methodologies inspired by \"Hands-On Machine Learning with Scikit-Learn, Keras, and TensorFlow.\"\n"
   ]
  },
  {
   "cell_type": "code",
   "execution_count": null,
   "id": "5164f4e9",
   "metadata": {},
   "outputs": [],
   "source": []
  },
  {
   "cell_type": "code",
   "execution_count": null,
   "id": "28a07c74",
   "metadata": {},
   "outputs": [],
   "source": []
  }
 ],
 "metadata": {
  "kernelspec": {
   "display_name": "Python 3 (ipykernel)",
   "language": "python",
   "name": "python3"
  },
  "language_info": {
   "codemirror_mode": {
    "name": "ipython",
    "version": 3
   },
   "file_extension": ".py",
   "mimetype": "text/x-python",
   "name": "python",
   "nbconvert_exporter": "python",
   "pygments_lexer": "ipython3",
   "version": "3.11.4"
  }
 },
 "nbformat": 4,
 "nbformat_minor": 5
}
