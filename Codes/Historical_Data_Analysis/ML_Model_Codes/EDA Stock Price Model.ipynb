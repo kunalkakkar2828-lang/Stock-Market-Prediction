{
 "cells": [
  {
   "cell_type": "markdown",
   "id": "62d52577",
   "metadata": {},
   "source": [
    "## Loading Libraries\n"
   ]
  },
  {
   "cell_type": "code",
   "execution_count": 2,
   "id": "9617d61d",
   "metadata": {},
   "outputs": [],
   "source": [
    "#loading essential modules for dataset \n",
    "import warnings\n",
    "warnings.filterwarnings('ignore')\n",
    "import numpy as np\n",
    "import pandas as pd\n",
    "import matplotlib.pyplot as plt"
   ]
  },
  {
   "cell_type": "code",
   "execution_count": 3,
   "id": "5411f87a",
   "metadata": {},
   "outputs": [],
   "source": [
    "# Amazon datasets \n",
    "amazon = pd.read_csv(\"new dataset/Preprocessed_AMZN_Dataset.csv\")\n",
    "# Apple Datasets \n",
    "apple = pd.read_csv(\"new dataset/Preprocessed_AAPL_Dataset.csv\")\n",
    "# Google Datasets \n",
    "google = pd.read_csv(\"new dataset/Preprocessed_GOOG_Dataset.csv\")\n",
    "# Meta Datasets \n",
    "meta = pd.read_csv(\"new dataset/Preprocessed_META_Dataset.csv\")\n",
    "#Microsoft \n",
    "msft = pd.read_csv(\"new dataset/Preprocessed_MSFT_Dataset.csv\")\n",
    "#netflix \n",
    "netflix = pd.read_csv(\"new dataset/Preprocessed_NFLX_Dataset.csv\")\n",
    "#nvidia\n",
    "nvidia = pd.read_csv(\"new dataset/Preprocessed_NVDA_Dataset.csv\")\n",
    "#TCS\n",
    "tcs = pd.read_csv(\"new dataset/Preprocessed_TCS_Dataset.csv\")\n"
   ]
  },
  {
   "cell_type": "markdown",
   "id": "10e3f50e",
   "metadata": {},
   "source": [
    "# Amazon"
   ]
  },
  {
   "cell_type": "code",
   "execution_count": 25,
   "id": "e207b3b7",
   "metadata": {
    "scrolled": true
   },
   "outputs": [
    {
     "name": "stdout",
     "output_type": "stream",
     "text": [
      "------Amazon----------\n",
      "date      1997-05-16\n",
      "open          0.0702\n",
      "high          0.0722\n",
      "low           0.0655\n",
      "close         0.0696\n",
      "volume       9744000\n",
      "dtype: object\n",
      "\n",
      "\n",
      "date      2024-10-17\n",
      "open          200.09\n",
      "high           201.2\n",
      "low          199.045\n",
      "close          200.0\n",
      "volume    2086584000\n",
      "dtype: object\n"
     ]
    }
   ],
   "source": [
    "print(\"------Amazon----------\")\n",
    "print(amazon.min())\n",
    "print(\"\\n\")\n",
    "print(amazon.max())"
   ]
  },
  {
   "cell_type": "markdown",
   "id": "52034f72",
   "metadata": {},
   "source": [
    "# APPLE"
   ]
  },
  {
   "cell_type": "code",
   "execution_count": 16,
   "id": "ac5addbc",
   "metadata": {},
   "outputs": [
    {
     "name": "stdout",
     "output_type": "stream",
     "text": [
      "-------Apple-------\n",
      "date      1980-12-12\n",
      "open          0.0384\n",
      "high          0.0384\n",
      "low            0.038\n",
      "close          0.038\n",
      "volume       1001504\n",
      "dtype: object\n",
      "\n",
      "\n",
      "date      2024-10-17\n",
      "open        236.2085\n",
      "high          237.49\n",
      "low         232.8224\n",
      "close       234.5504\n",
      "volume    2147483647\n",
      "dtype: object\n"
     ]
    }
   ],
   "source": [
    "print(\"-------Apple-------\")\n",
    "print(apple.min())\n",
    "print(\"\\n\")\n",
    "print(apple.max())"
   ]
  },
  {
   "cell_type": "markdown",
   "id": "fce653c4",
   "metadata": {},
   "source": [
    "# Google"
   ]
  },
  {
   "cell_type": "code",
   "execution_count": 18,
   "id": "cfa36a5d",
   "metadata": {},
   "outputs": [
    {
     "name": "stdout",
     "output_type": "stream",
     "text": [
      "-------Google-------\n",
      "date      2014-03-27\n",
      "open         24.6715\n",
      "high         24.7377\n",
      "low          24.3179\n",
      "close        24.5668\n",
      "volume        158000\n",
      "dtype: object\n",
      "\n",
      "\n",
      "date      2024-10-17\n",
      "open        191.4939\n",
      "high        193.0518\n",
      "low         190.3654\n",
      "close       192.4027\n",
      "volume     223298860\n",
      "dtype: object\n"
     ]
    }
   ],
   "source": [
    "print(\"-------Google-------\")\n",
    "print(google.min())\n",
    "print(\"\\n\")\n",
    "print(google.max())"
   ]
  },
  {
   "cell_type": "markdown",
   "id": "f6162354",
   "metadata": {},
   "source": [
    "# META"
   ]
  },
  {
   "cell_type": "code",
   "execution_count": 19,
   "id": "843d9778",
   "metadata": {},
   "outputs": [
    {
     "name": "stdout",
     "output_type": "stream",
     "text": [
      "-------META-------\n",
      "date      2012-05-18\n",
      "open         18.0259\n",
      "high         18.2153\n",
      "low          17.4975\n",
      "close         17.676\n",
      "volume       5462550\n",
      "dtype: object\n",
      "\n",
      "\n",
      "date      2024-10-17\n",
      "open          598.22\n",
      "high          602.95\n",
      "low           589.96\n",
      "close         595.94\n",
      "volume     573576400\n",
      "dtype: object\n"
     ]
    }
   ],
   "source": [
    "print(\"-------META-------\")\n",
    "print(meta.min())\n",
    "print(\"\\n\")\n",
    "print(meta.max())"
   ]
  },
  {
   "cell_type": "markdown",
   "id": "d10d51f1",
   "metadata": {},
   "source": [
    "# MICROSOFT"
   ]
  },
  {
   "cell_type": "code",
   "execution_count": 20,
   "id": "ebdcfa5e",
   "metadata": {},
   "outputs": [
    {
     "name": "stdout",
     "output_type": "stream",
     "text": [
      "----------Microsoft-------\n",
      "date      1986-03-13\n",
      "open          0.0549\n",
      "high          0.0571\n",
      "low           0.0549\n",
      "close          0.056\n",
      "volume       2304000\n",
      "dtype: object\n",
      "\n",
      "\n",
      "date      2024-10-17\n",
      "open        466.1696\n",
      "high        467.5172\n",
      "low         463.6341\n",
      "close       466.7286\n",
      "volume    1031788800\n",
      "dtype: object\n"
     ]
    }
   ],
   "source": [
    "print(\"----------Microsoft-------\")\n",
    "print(msft.min())\n",
    "print(\"\\n\")\n",
    "print(msft.max())"
   ]
  },
  {
   "cell_type": "markdown",
   "id": "0c480530",
   "metadata": {},
   "source": [
    "# Netflix"
   ]
  },
  {
   "cell_type": "code",
   "execution_count": 21,
   "id": "1e4bca67",
   "metadata": {},
   "outputs": [
    {
     "name": "stdout",
     "output_type": "stream",
     "text": [
      "------Netflix-------\n",
      "date      2002-05-23\n",
      "open          0.3779\n",
      "high          0.4107\n",
      "low           0.3464\n",
      "close         0.3729\n",
      "volume        285600\n",
      "dtype: object\n",
      "\n",
      "\n",
      "date      2024-10-17\n",
      "open           734.9\n",
      "high           736.0\n",
      "low            722.5\n",
      "close         730.29\n",
      "volume     323414000\n",
      "dtype: object\n"
     ]
    }
   ],
   "source": [
    "print(\"------Netflix-------\")\n",
    "print(netflix.min())\n",
    "print(\"\\n\")\n",
    "print(netflix.max())"
   ]
  },
  {
   "cell_type": "markdown",
   "id": "b0a69db7",
   "metadata": {},
   "source": [
    "# Nvidia"
   ]
  },
  {
   "cell_type": "code",
   "execution_count": 22,
   "id": "e6e9b9fa",
   "metadata": {},
   "outputs": [
    {
     "name": "stdout",
     "output_type": "stream",
     "text": [
      "------Nvidia------\n",
      "date      1999-01-22\n",
      "open           0.032\n",
      "high          0.0326\n",
      "low           0.0306\n",
      "close         0.0313\n",
      "volume      19680000\n",
      "dtype: object\n",
      "\n",
      "\n",
      "date      2024-10-17\n",
      "open        139.7883\n",
      "high        195.9174\n",
      "low           136.87\n",
      "close         138.07\n",
      "volume    2147483647\n",
      "dtype: object\n"
     ]
    }
   ],
   "source": [
    "print(\"------Nvidia------\")\n",
    "print(nvidia.min())\n",
    "print(\"\\n\")\n",
    "print(nvidia.max())"
   ]
  },
  {
   "cell_type": "markdown",
   "id": "103b90f3",
   "metadata": {},
   "source": [
    "# TCS"
   ]
  },
  {
   "cell_type": "code",
   "execution_count": 23,
   "id": "725a4fa4",
   "metadata": {},
   "outputs": [
    {
     "name": "stdout",
     "output_type": "stream",
     "text": [
      "------TCS------\n",
      "date      2013-11-01\n",
      "open             7.5\n",
      "high            8.02\n",
      "low              7.5\n",
      "close         7.6665\n",
      "volume          2001\n",
      "dtype: object\n",
      "\n",
      "\n",
      "date      2024-10-17\n",
      "open          703.05\n",
      "high          706.05\n",
      "low            684.0\n",
      "close         699.15\n",
      "volume       3938293\n",
      "dtype: object\n"
     ]
    }
   ],
   "source": [
    "print(\"------TCS------\")\n",
    "print(tcs.min())\n",
    "print(\"\\n\")\n",
    "print(tcs.max())"
   ]
  },
  {
   "cell_type": "code",
   "execution_count": null,
   "id": "64a90d98",
   "metadata": {},
   "outputs": [],
   "source": []
  }
 ],
 "metadata": {
  "kernelspec": {
   "display_name": "Python 3 (ipykernel)",
   "language": "python",
   "name": "python3"
  },
  "language_info": {
   "codemirror_mode": {
    "name": "ipython",
    "version": 3
   },
   "file_extension": ".py",
   "mimetype": "text/x-python",
   "name": "python",
   "nbconvert_exporter": "python",
   "pygments_lexer": "ipython3",
   "version": "3.11.4"
  }
 },
 "nbformat": 4,
 "nbformat_minor": 5
}
