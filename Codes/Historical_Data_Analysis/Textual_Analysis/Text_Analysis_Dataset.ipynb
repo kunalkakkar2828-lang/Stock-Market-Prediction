{
 "cells": [
  {
   "cell_type": "markdown",
   "id": "3192721e",
   "metadata": {},
   "source": [
    "## In this Notebook, we are filtering the text data from the dataset"
   ]
  },
  {
   "cell_type": "markdown",
   "id": "8e4addac",
   "metadata": {},
   "source": [
    "### Importing Required Libraries"
   ]
  },
  {
   "cell_type": "code",
   "execution_count": 1,
   "id": "b4f31079",
   "metadata": {},
   "outputs": [],
   "source": [
    "import pandas as pd"
   ]
  },
  {
   "cell_type": "markdown",
   "id": "9802a2a9",
   "metadata": {},
   "source": [
    "### Reading Dataset"
   ]
  },
  {
   "cell_type": "code",
   "execution_count": 2,
   "id": "61d88ea0",
   "metadata": {},
   "outputs": [
    {
     "name": "stdout",
     "output_type": "stream",
     "text": [
      "Dataset is:\n",
      "\n",
      "            date                                                url  \\\n",
      "0     2022-10-08  https://www.livemint.com/market/stock-market-n...   \n",
      "1     2022-10-08  https://www.zawya.com/en/markets/equities/wall...   \n",
      "2     2022-10-08  https://www.goodisonnews.com/2022/10/08/stock-...   \n",
      "3     2022-10-08  https://www.livemint.com/market/stock-market-n...   \n",
      "4     2022-10-08  https://finance.yahoo.com/news/crypto-exchange...   \n",
      "...          ...                                                ...   \n",
      "4694  2021-10-09  https://www.fool.com/investing/2021/10/09/shou...   \n",
      "4695  2021-10-09  https://www.fool.com/investing/2021/10/09/when...   \n",
      "4696  2021-10-09  https://abcnews.go.com/Business/stocks-soar-hi...   \n",
      "4697  2021-10-09  https://www.fool.com/investing/2021/10/09/this...   \n",
      "4698  2021-10-09  https://www.fool.com/investing/2021/10/09/why-...   \n",
      "\n",
      "                                              full_text  \\\n",
      "0     Have you read your account statements for the ...   \n",
      "1     Wall Street fell sharply on Friday following a...   \n",
      "2     By Matthew Shaw 8th Oct, 2022 | 8:10am\\n\\nStoc...   \n",
      "3     Stock split 2022: The board of directors of An...   \n",
      "4     (Reuters) - Cryptocurrency exchange Huobi Glob...   \n",
      "...                                                 ...   \n",
      "4694  After an incredible 18 months of growth, the s...   \n",
      "4695  It's an immutable fact that the stock market i...   \n",
      "4696  One overvaluation indicator is higher than it ...   \n",
      "4697  Real estate tech company and iBuyer Opendoor T...   \n",
      "4698  Unity Software (U -8.59%) is the company behin...   \n",
      "\n",
      "                                                summary  voo_close  \\\n",
      "0     And it’s natural to avoid looking too closely ...        NaN   \n",
      "1     Nonfarm payrolls rose by 263,000 jobs, more th...        NaN   \n",
      "2     By Matthew Shaw 8th Oct, 2022 | 8:10amStock ma...        NaN   \n",
      "3     Stock split 2022: The board of directors of An...        NaN   \n",
      "4     (Reuters) - Cryptocurrency exchange Huobi Glob...        NaN   \n",
      "...                                                 ...        ...   \n",
      "4694  After an incredible 18 months of growth, the s...        NaN   \n",
      "4695  It's an immutable fact that the stock market i...        NaN   \n",
      "4696  The stock market has been a roller coaster rid...        NaN   \n",
      "4697  This move could mean that the race to change t...        NaN   \n",
      "4698  Unity Software (U -8.59%) is the company behin...        NaN   \n",
      "\n",
      "      voo_volume  qqq_close  qqq_volume  dia_close  dia_volume  \n",
      "0            NaN        NaN         NaN        NaN         NaN  \n",
      "1            NaN        NaN         NaN        NaN         NaN  \n",
      "2            NaN        NaN         NaN        NaN         NaN  \n",
      "3            NaN        NaN         NaN        NaN         NaN  \n",
      "4            NaN        NaN         NaN        NaN         NaN  \n",
      "...          ...        ...         ...        ...         ...  \n",
      "4694         NaN        NaN         NaN        NaN         NaN  \n",
      "4695         NaN        NaN         NaN        NaN         NaN  \n",
      "4696         NaN        NaN         NaN        NaN         NaN  \n",
      "4697         NaN        NaN         NaN        NaN         NaN  \n",
      "4698         NaN        NaN         NaN        NaN         NaN  \n",
      "\n",
      "[4699 rows x 10 columns]\n"
     ]
    }
   ],
   "source": [
    "df = pd.read_csv(\"Dataset/News_Stock_Price.csv\")\n",
    "\n",
    "print(\"Dataset is:\\n\")\n",
    "\n",
    "print(df)"
   ]
  },
  {
   "cell_type": "markdown",
   "id": "dcd9b6d8",
   "metadata": {},
   "source": [
    "### Seeing Columns of the Dataset"
   ]
  },
  {
   "cell_type": "code",
   "execution_count": 4,
   "id": "c6b5f04a",
   "metadata": {},
   "outputs": [
    {
     "name": "stdout",
     "output_type": "stream",
     "text": [
      "Columns of the dataset are:\n",
      "\n",
      "Index(['date', 'url', 'full_text', 'summary', 'voo_close', 'voo_volume',\n",
      "       'qqq_close', 'qqq_volume', 'dia_close', 'dia_volume'],\n",
      "      dtype='object')\n"
     ]
    }
   ],
   "source": [
    "print(\"Columns of the dataset are:\\n\")\n",
    "\n",
    "print(df.columns)"
   ]
  },
  {
   "cell_type": "markdown",
   "id": "1c79fb5d",
   "metadata": {},
   "source": [
    "### Seeing shape of Dataset"
   ]
  },
  {
   "cell_type": "code",
   "execution_count": 6,
   "id": "43eacb83",
   "metadata": {},
   "outputs": [
    {
     "name": "stdout",
     "output_type": "stream",
     "text": [
      "Shape of the dataset is:\n",
      "\n",
      "(4699, 10)\n"
     ]
    }
   ],
   "source": [
    "print(\"Shape of the dataset is:\\n\")\n",
    "\n",
    "print(df.shape)"
   ]
  },
  {
   "cell_type": "markdown",
   "id": "3ea1211e",
   "metadata": {},
   "source": [
    "### Selecting Text columns"
   ]
  },
  {
   "cell_type": "code",
   "execution_count": 5,
   "id": "0166db88",
   "metadata": {},
   "outputs": [],
   "source": [
    "df_text = df[['date', 'url', 'full_text', 'summary']]"
   ]
  },
  {
   "cell_type": "code",
   "execution_count": 7,
   "id": "2e7f180c",
   "metadata": {},
   "outputs": [
    {
     "name": "stdout",
     "output_type": "stream",
     "text": [
      "Filtered Text dataset is:\n",
      "\n",
      "            date                                                url  \\\n",
      "0     2022-10-08  https://www.livemint.com/market/stock-market-n...   \n",
      "1     2022-10-08  https://www.zawya.com/en/markets/equities/wall...   \n",
      "2     2022-10-08  https://www.goodisonnews.com/2022/10/08/stock-...   \n",
      "3     2022-10-08  https://www.livemint.com/market/stock-market-n...   \n",
      "4     2022-10-08  https://finance.yahoo.com/news/crypto-exchange...   \n",
      "...          ...                                                ...   \n",
      "4694  2021-10-09  https://www.fool.com/investing/2021/10/09/shou...   \n",
      "4695  2021-10-09  https://www.fool.com/investing/2021/10/09/when...   \n",
      "4696  2021-10-09  https://abcnews.go.com/Business/stocks-soar-hi...   \n",
      "4697  2021-10-09  https://www.fool.com/investing/2021/10/09/this...   \n",
      "4698  2021-10-09  https://www.fool.com/investing/2021/10/09/why-...   \n",
      "\n",
      "                                              full_text  \\\n",
      "0     Have you read your account statements for the ...   \n",
      "1     Wall Street fell sharply on Friday following a...   \n",
      "2     By Matthew Shaw 8th Oct, 2022 | 8:10am\\n\\nStoc...   \n",
      "3     Stock split 2022: The board of directors of An...   \n",
      "4     (Reuters) - Cryptocurrency exchange Huobi Glob...   \n",
      "...                                                 ...   \n",
      "4694  After an incredible 18 months of growth, the s...   \n",
      "4695  It's an immutable fact that the stock market i...   \n",
      "4696  One overvaluation indicator is higher than it ...   \n",
      "4697  Real estate tech company and iBuyer Opendoor T...   \n",
      "4698  Unity Software (U -8.59%) is the company behin...   \n",
      "\n",
      "                                                summary  \n",
      "0     And it’s natural to avoid looking too closely ...  \n",
      "1     Nonfarm payrolls rose by 263,000 jobs, more th...  \n",
      "2     By Matthew Shaw 8th Oct, 2022 | 8:10amStock ma...  \n",
      "3     Stock split 2022: The board of directors of An...  \n",
      "4     (Reuters) - Cryptocurrency exchange Huobi Glob...  \n",
      "...                                                 ...  \n",
      "4694  After an incredible 18 months of growth, the s...  \n",
      "4695  It's an immutable fact that the stock market i...  \n",
      "4696  The stock market has been a roller coaster rid...  \n",
      "4697  This move could mean that the race to change t...  \n",
      "4698  Unity Software (U -8.59%) is the company behin...  \n",
      "\n",
      "[4699 rows x 4 columns]\n"
     ]
    }
   ],
   "source": [
    "print(\"Filtered Text dataset is:\\n\")\n",
    "\n",
    "print(df_text)"
   ]
  },
  {
   "cell_type": "markdown",
   "id": "4cc3de9b",
   "metadata": {},
   "source": [
    "### Saving as CSV File"
   ]
  },
  {
   "cell_type": "code",
   "execution_count": 8,
   "id": "32935fa0",
   "metadata": {},
   "outputs": [],
   "source": [
    "df_text.to_csv(\"Dataset/Filtered_News_Stock_Price_Text_Dataset.csv\")"
   ]
  },
  {
   "cell_type": "code",
   "execution_count": null,
   "id": "b9ac4d1d",
   "metadata": {},
   "outputs": [],
   "source": []
  }
 ],
 "metadata": {
  "kernelspec": {
   "display_name": "Python 3 (ipykernel)",
   "language": "python",
   "name": "python3"
  },
  "language_info": {
   "codemirror_mode": {
    "name": "ipython",
    "version": 3
   },
   "file_extension": ".py",
   "mimetype": "text/x-python",
   "name": "python",
   "nbconvert_exporter": "python",
   "pygments_lexer": "ipython3",
   "version": "3.11.4"
  }
 },
 "nbformat": 4,
 "nbformat_minor": 5
}
